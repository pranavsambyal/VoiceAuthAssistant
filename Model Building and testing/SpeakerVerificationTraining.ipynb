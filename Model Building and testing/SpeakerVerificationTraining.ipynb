{
 "cells": [
  {
   "cell_type": "markdown",
   "metadata": {},
   "source": [
    "#### Imports"
   ]
  },
  {
   "cell_type": "code",
   "execution_count": 1,
   "metadata": {},
   "outputs": [
    {
     "name": "stdout",
     "output_type": "stream",
     "text": [
      "Requirement already satisfied: librosa in ./temp/lib/python3.8/site-packages (0.10.0.post2)\n",
      "Requirement already satisfied: numba>=0.51.0 in ./temp/lib/python3.8/site-packages (from librosa) (0.56.4)\n",
      "Requirement already satisfied: audioread>=2.1.9 in ./temp/lib/python3.8/site-packages (from librosa) (3.0.0)\n",
      "Requirement already satisfied: pooch<1.7,>=1.0 in ./temp/lib/python3.8/site-packages (from librosa) (1.6.0)\n",
      "Requirement already satisfied: msgpack>=1.0 in ./temp/lib/python3.8/site-packages (from librosa) (1.0.5)\n",
      "Requirement already satisfied: soxr>=0.3.2 in ./temp/lib/python3.8/site-packages (from librosa) (0.3.5)\n",
      "Requirement already satisfied: lazy-loader>=0.1 in ./temp/lib/python3.8/site-packages (from librosa) (0.2)\n",
      "Requirement already satisfied: soundfile>=0.12.1 in ./temp/lib/python3.8/site-packages (from librosa) (0.12.1)\n",
      "Requirement already satisfied: numpy!=1.22.0,!=1.22.1,!=1.22.2,>=1.20.3 in ./temp/lib/python3.8/site-packages (from librosa) (1.23.5)\n",
      "Requirement already satisfied: typing-extensions>=4.1.1 in ./temp/lib/python3.8/site-packages (from librosa) (4.5.0)\n",
      "Requirement already satisfied: scikit-learn>=0.20.0 in ./temp/lib/python3.8/site-packages (from librosa) (1.2.2)\n",
      "Requirement already satisfied: scipy>=1.2.0 in ./temp/lib/python3.8/site-packages (from librosa) (1.10.1)\n",
      "Requirement already satisfied: decorator>=4.3.0 in ./temp/lib/python3.8/site-packages (from librosa) (5.1.1)\n",
      "Requirement already satisfied: joblib>=0.14 in ./temp/lib/python3.8/site-packages (from librosa) (1.2.0)\n",
      "Requirement already satisfied: llvmlite<0.40,>=0.39.0dev0 in ./temp/lib/python3.8/site-packages (from numba>=0.51.0->librosa) (0.39.1)\n",
      "Requirement already satisfied: setuptools in ./temp/lib/python3.8/site-packages (from numba>=0.51.0->librosa) (62.6.0)\n",
      "Requirement already satisfied: importlib-metadata in ./temp/lib/python3.8/site-packages (from numba>=0.51.0->librosa) (6.3.0)\n",
      "Requirement already satisfied: requests>=2.19.0 in ./temp/lib/python3.8/site-packages (from pooch<1.7,>=1.0->librosa) (2.28.2)\n",
      "Requirement already satisfied: packaging>=20.0 in ./temp/lib/python3.8/site-packages (from pooch<1.7,>=1.0->librosa) (23.0)\n",
      "Requirement already satisfied: appdirs>=1.3.0 in ./temp/lib/python3.8/site-packages (from pooch<1.7,>=1.0->librosa) (1.4.4)\n",
      "Requirement already satisfied: threadpoolctl>=2.0.0 in ./temp/lib/python3.8/site-packages (from scikit-learn>=0.20.0->librosa) (3.1.0)\n",
      "Requirement already satisfied: cffi>=1.0 in ./temp/lib/python3.8/site-packages (from soundfile>=0.12.1->librosa) (1.15.1)\n",
      "Requirement already satisfied: pycparser in ./temp/lib/python3.8/site-packages (from cffi>=1.0->soundfile>=0.12.1->librosa) (2.21)\n",
      "Requirement already satisfied: charset-normalizer<4,>=2 in ./temp/lib/python3.8/site-packages (from requests>=2.19.0->pooch<1.7,>=1.0->librosa) (3.1.0)\n",
      "Requirement already satisfied: urllib3<1.27,>=1.21.1 in ./temp/lib/python3.8/site-packages (from requests>=2.19.0->pooch<1.7,>=1.0->librosa) (1.26.15)\n",
      "Requirement already satisfied: certifi>=2017.4.17 in ./temp/lib/python3.8/site-packages (from requests>=2.19.0->pooch<1.7,>=1.0->librosa) (2022.12.7)\n",
      "Requirement already satisfied: idna<4,>=2.5 in ./temp/lib/python3.8/site-packages (from requests>=2.19.0->pooch<1.7,>=1.0->librosa) (3.4)\n",
      "Requirement already satisfied: zipp>=0.5 in ./temp/lib/python3.8/site-packages (from importlib-metadata->numba>=0.51.0->librosa) (3.15.0)\n",
      "\n",
      "\u001b[1m[\u001b[0m\u001b[34;49mnotice\u001b[0m\u001b[1;39;49m]\u001b[0m\u001b[39;49m A new release of pip available: \u001b[0m\u001b[31;49m22.2.2\u001b[0m\u001b[39;49m -> \u001b[0m\u001b[32;49m23.1.2\u001b[0m\n",
      "\u001b[1m[\u001b[0m\u001b[34;49mnotice\u001b[0m\u001b[1;39;49m]\u001b[0m\u001b[39;49m To update, run: \u001b[0m\u001b[32;49mpip install --upgrade pip\u001b[0m\n"
     ]
    }
   ],
   "source": [
    "!pip install librosa"
   ]
  },
  {
   "cell_type": "code",
   "execution_count": 1,
   "metadata": {},
   "outputs": [
    {
     "name": "stderr",
     "output_type": "stream",
     "text": [
      "2023-06-12 03:05:01.206717: I tensorflow/tsl/cuda/cudart_stub.cc:28] Could not find cuda drivers on your machine, GPU will not be used.\n",
      "2023-06-12 03:05:01.335767: I tensorflow/tsl/cuda/cudart_stub.cc:28] Could not find cuda drivers on your machine, GPU will not be used.\n",
      "2023-06-12 03:05:01.336486: I tensorflow/core/platform/cpu_feature_guard.cc:182] This TensorFlow binary is optimized to use available CPU instructions in performance-critical operations.\n",
      "To enable the following instructions: AVX2 FMA, in other operations, rebuild TensorFlow with the appropriate compiler flags.\n",
      "2023-06-12 03:05:02.103200: W tensorflow/compiler/tf2tensorrt/utils/py_utils.cc:38] TF-TRT Warning: Could not find TensorRT\n"
     ]
    }
   ],
   "source": [
    "import IPython.display as ipd\n",
    "# % pylab inline\n",
    "import os\n",
    "import pandas as pd\n",
    "import librosa\n",
    "import glob \n",
    "import librosa.display\n",
    "import random\n",
    "\n",
    "from sklearn.preprocessing import StandardScaler\n",
    "from sklearn.model_selection import train_test_split\n",
    "\n",
    "from keras.utils.np_utils import to_categorical\n",
    "\n",
    "import numpy as np\n",
    "from keras.models import Sequential\n",
    "from keras.layers import Dense, Dropout, Activation, Flatten\n",
    "from keras.layers import Convolution2D, MaxPooling2D\n",
    "from keras.optimizers import Adam\n",
    "from keras.utils import np_utils\n",
    "from sklearn import metrics \n",
    "\n",
    "from sklearn.datasets import make_regression\n",
    "from sklearn.preprocessing import StandardScaler\n",
    "from sklearn import metrics\n",
    "from sklearn.model_selection import train_test_split, GridSearchCV\n",
    "\n",
    "from tensorflow.keras.models import Sequential\n",
    "from tensorflow.keras.layers import Dense, Dropout \n",
    "from tensorflow.keras.wrappers.scikit_learn import KerasRegressor\n",
    "\n",
    "from keras.callbacks import EarlyStopping\n",
    "\n",
    "from keras import regularizers\n",
    "\n",
    "from sklearn.preprocessing import LabelEncoder\n",
    "\n",
    "from datetime import datetime\n",
    "import resampy\n",
    "import os"
   ]
  },
  {
   "cell_type": "markdown",
   "metadata": {},
   "source": [
    "#### Reading the files from our folder and creating a dataframe from it"
   ]
  },
  {
   "cell_type": "code",
   "execution_count": 3,
   "metadata": {},
   "outputs": [],
   "source": [
    "#list the files\n",
    "filelist = os.listdir('LibriSpeech/male') \n",
    "#read them into pandas\n",
    "df_male = pd.DataFrame(filelist)"
   ]
  },
  {
   "cell_type": "code",
   "execution_count": 4,
   "metadata": {},
   "outputs": [],
   "source": [
    "# Adding the 1 label to the dataframe representing male\n",
    "df_male['label']='1'"
   ]
  },
  {
   "cell_type": "code",
   "execution_count": 5,
   "metadata": {},
   "outputs": [],
   "source": [
    "# Renaming the column name to file\n",
    "df_male = df_male.rename(columns={0:'file'})"
   ]
  },
  {
   "cell_type": "code",
   "execution_count": 6,
   "metadata": {},
   "outputs": [
    {
     "data": {
      "text/html": [
       "<div>\n",
       "<style scoped>\n",
       "    .dataframe tbody tr th:only-of-type {\n",
       "        vertical-align: middle;\n",
       "    }\n",
       "\n",
       "    .dataframe tbody tr th {\n",
       "        vertical-align: top;\n",
       "    }\n",
       "\n",
       "    .dataframe thead th {\n",
       "        text-align: right;\n",
       "    }\n",
       "</style>\n",
       "<table border=\"1\" class=\"dataframe\">\n",
       "  <thead>\n",
       "    <tr style=\"text-align: right;\">\n",
       "      <th></th>\n",
       "      <th>file</th>\n",
       "      <th>label</th>\n",
       "    </tr>\n",
       "  </thead>\n",
       "  <tbody>\n",
       "    <tr>\n",
       "      <th>0</th>\n",
       "      <td>625-132112-0018.flac</td>\n",
       "      <td>1</td>\n",
       "    </tr>\n",
       "    <tr>\n",
       "      <th>1</th>\n",
       "      <td>7067-76047-0046.flac</td>\n",
       "      <td>1</td>\n",
       "    </tr>\n",
       "    <tr>\n",
       "      <th>2</th>\n",
       "      <td>6848-76049-0006.flac</td>\n",
       "      <td>1</td>\n",
       "    </tr>\n",
       "    <tr>\n",
       "      <th>3</th>\n",
       "      <td>6437-66172-0024.flac</td>\n",
       "      <td>1</td>\n",
       "    </tr>\n",
       "    <tr>\n",
       "      <th>4</th>\n",
       "      <td>3374-298026-0029.flac</td>\n",
       "      <td>1</td>\n",
       "    </tr>\n",
       "  </tbody>\n",
       "</table>\n",
       "</div>"
      ],
      "text/plain": [
       "                    file label\n",
       "0   625-132112-0018.flac     1\n",
       "1   7067-76047-0046.flac     1\n",
       "2   6848-76049-0006.flac     1\n",
       "3   6437-66172-0024.flac     1\n",
       "4  3374-298026-0029.flac     1"
      ]
     },
     "execution_count": 6,
     "metadata": {},
     "output_type": "execute_result"
    }
   ],
   "source": [
    "df_male.head()"
   ]
  },
  {
   "cell_type": "code",
   "execution_count": 7,
   "metadata": {},
   "outputs": [
    {
     "data": {
      "text/html": [
       "<div>\n",
       "<style scoped>\n",
       "    .dataframe tbody tr th:only-of-type {\n",
       "        vertical-align: middle;\n",
       "    }\n",
       "\n",
       "    .dataframe tbody tr th {\n",
       "        vertical-align: top;\n",
       "    }\n",
       "\n",
       "    .dataframe thead th {\n",
       "        text-align: right;\n",
       "    }\n",
       "</style>\n",
       "<table border=\"1\" class=\"dataframe\">\n",
       "  <thead>\n",
       "    <tr style=\"text-align: right;\">\n",
       "      <th></th>\n",
       "      <th>file</th>\n",
       "      <th>label</th>\n",
       "    </tr>\n",
       "  </thead>\n",
       "  <tbody>\n",
       "  </tbody>\n",
       "</table>\n",
       "</div>"
      ],
      "text/plain": [
       "Empty DataFrame\n",
       "Columns: [file, label]\n",
       "Index: []"
      ]
     },
     "execution_count": 7,
     "metadata": {},
     "output_type": "execute_result"
    }
   ],
   "source": [
    "# Checking for a file that gets automatically generated and we need to drop \n",
    "df_male[df_male['file']=='.DS_Store']"
   ]
  },
  {
   "cell_type": "markdown",
   "metadata": {},
   "source": [
    "Doing the same for the female folder"
   ]
  },
  {
   "cell_type": "code",
   "execution_count": 8,
   "metadata": {},
   "outputs": [],
   "source": [
    "filelist = os.listdir('LibriSpeech/female') \n",
    "#read them into pandas\n",
    "df_female = pd.DataFrame(filelist)"
   ]
  },
  {
   "cell_type": "code",
   "execution_count": 9,
   "metadata": {},
   "outputs": [],
   "source": [
    "df_female['label']='0'"
   ]
  },
  {
   "cell_type": "code",
   "execution_count": 10,
   "metadata": {},
   "outputs": [],
   "source": [
    "df_female = df_female.rename(columns={0:'file'})"
   ]
  },
  {
   "cell_type": "code",
   "execution_count": 11,
   "metadata": {},
   "outputs": [
    {
     "data": {
      "text/html": [
       "<div>\n",
       "<style scoped>\n",
       "    .dataframe tbody tr th:only-of-type {\n",
       "        vertical-align: middle;\n",
       "    }\n",
       "\n",
       "    .dataframe tbody tr th {\n",
       "        vertical-align: top;\n",
       "    }\n",
       "\n",
       "    .dataframe thead th {\n",
       "        text-align: right;\n",
       "    }\n",
       "</style>\n",
       "<table border=\"1\" class=\"dataframe\">\n",
       "  <thead>\n",
       "    <tr style=\"text-align: right;\">\n",
       "      <th></th>\n",
       "      <th>file</th>\n",
       "      <th>label</th>\n",
       "    </tr>\n",
       "  </thead>\n",
       "  <tbody>\n",
       "    <tr>\n",
       "      <th>0</th>\n",
       "      <td>8324-286681-0023.flac</td>\n",
       "      <td>0</td>\n",
       "    </tr>\n",
       "    <tr>\n",
       "      <th>1</th>\n",
       "      <td>1578-140045-0006.flac</td>\n",
       "      <td>0</td>\n",
       "    </tr>\n",
       "    <tr>\n",
       "      <th>2</th>\n",
       "      <td>1970-26100-0034.flac</td>\n",
       "      <td>0</td>\n",
       "    </tr>\n",
       "    <tr>\n",
       "      <th>3</th>\n",
       "      <td>7859-102518-0022.flac</td>\n",
       "      <td>0</td>\n",
       "    </tr>\n",
       "    <tr>\n",
       "      <th>4</th>\n",
       "      <td>1263-141777-0024.flac</td>\n",
       "      <td>0</td>\n",
       "    </tr>\n",
       "  </tbody>\n",
       "</table>\n",
       "</div>"
      ],
      "text/plain": [
       "                    file label\n",
       "0  8324-286681-0023.flac     0\n",
       "1  1578-140045-0006.flac     0\n",
       "2   1970-26100-0034.flac     0\n",
       "3  7859-102518-0022.flac     0\n",
       "4  1263-141777-0024.flac     0"
      ]
     },
     "execution_count": 11,
     "metadata": {},
     "output_type": "execute_result"
    }
   ],
   "source": [
    "df_female.head()"
   ]
  },
  {
   "cell_type": "code",
   "execution_count": 12,
   "metadata": {
    "scrolled": true
   },
   "outputs": [
    {
     "data": {
      "text/html": [
       "<div>\n",
       "<style scoped>\n",
       "    .dataframe tbody tr th:only-of-type {\n",
       "        vertical-align: middle;\n",
       "    }\n",
       "\n",
       "    .dataframe tbody tr th {\n",
       "        vertical-align: top;\n",
       "    }\n",
       "\n",
       "    .dataframe thead th {\n",
       "        text-align: right;\n",
       "    }\n",
       "</style>\n",
       "<table border=\"1\" class=\"dataframe\">\n",
       "  <thead>\n",
       "    <tr style=\"text-align: right;\">\n",
       "      <th></th>\n",
       "      <th>file</th>\n",
       "      <th>label</th>\n",
       "    </tr>\n",
       "  </thead>\n",
       "  <tbody>\n",
       "  </tbody>\n",
       "</table>\n",
       "</div>"
      ],
      "text/plain": [
       "Empty DataFrame\n",
       "Columns: [file, label]\n",
       "Index: []"
      ]
     },
     "execution_count": 12,
     "metadata": {},
     "output_type": "execute_result"
    }
   ],
   "source": [
    "# Checking for a file that gets automatically generated and we need to drop \n",
    "df_female[df_female['file']=='.DS_Store']"
   ]
  },
  {
   "cell_type": "code",
   "execution_count": 6,
   "metadata": {},
   "outputs": [
    {
     "ename": "NameError",
     "evalue": "name 'df_female' is not defined",
     "output_type": "error",
     "traceback": [
      "\u001b[0;31m---------------------------------------------------------------------------\u001b[0m",
      "\u001b[0;31mNameError\u001b[0m                                 Traceback (most recent call last)",
      "Cell \u001b[0;32mIn[6], line 2\u001b[0m\n\u001b[1;32m      1\u001b[0m \u001b[38;5;66;03m# Dropping the system file\u001b[39;00m\n\u001b[0;32m----> 2\u001b[0m \u001b[43mdf_female\u001b[49m\u001b[38;5;241m.\u001b[39mdrop(\u001b[38;5;241m981\u001b[39m, inplace\u001b[38;5;241m=\u001b[39m\u001b[38;5;28;01mTrue\u001b[39;00m)\n",
      "\u001b[0;31mNameError\u001b[0m: name 'df_female' is not defined"
     ]
    }
   ],
   "source": [
    "# Dropping the system file\n",
    "df_female.drop(981, inplace=True)"
   ]
  },
  {
   "cell_type": "code",
   "execution_count": 14,
   "metadata": {},
   "outputs": [],
   "source": [
    "# Resetting the index since we dropped a row\n",
    "df_female = df_female.reset_index(drop=True)"
   ]
  },
  {
   "cell_type": "markdown",
   "metadata": {},
   "source": [
    "Joining both dataframes together "
   ]
  },
  {
   "cell_type": "code",
   "execution_count": 15,
   "metadata": {},
   "outputs": [],
   "source": [
    "df = pd.concat([df_female, df_male], ignore_index=True)"
   ]
  },
  {
   "cell_type": "code",
   "execution_count": 3,
   "metadata": {},
   "outputs": [],
   "source": [
    "df = pd.concat([df_female[:1000], df_male[:1000]], ignore_index=True)"
   ]
  },
  {
   "cell_type": "code",
   "execution_count": 4,
   "metadata": {},
   "outputs": [],
   "source": [
    "size=df.size\n",
    "trainSize=int(0.7*size)\n",
    "validationSize=int(0.2*size)\n",
    "testSize=int(0.1*size)"
   ]
  },
  {
   "cell_type": "code",
   "execution_count": 5,
   "metadata": {},
   "outputs": [],
   "source": [
    "df=df.sample(n=size,replace=True)"
   ]
  },
  {
   "cell_type": "code",
   "execution_count": 6,
   "metadata": {},
   "outputs": [],
   "source": [
    "df = df.sample(frac=1).reset_index(drop=True)"
   ]
  },
  {
   "cell_type": "markdown",
   "metadata": {},
   "source": [
    "We are going to do an split of train, validation and test with 70% train, 20% validation and 10% for test. We check that the randomized splits have balanced classes"
   ]
  },
  {
   "cell_type": "code",
   "execution_count": 7,
   "metadata": {},
   "outputs": [],
   "source": [
    "df_train = df[:trainSize]"
   ]
  },
  {
   "cell_type": "code",
   "execution_count": 8,
   "metadata": {},
   "outputs": [],
   "source": [
    "# df_train=df_train[:1000]"
   ]
  },
  {
   "cell_type": "code",
   "execution_count": 9,
   "metadata": {},
   "outputs": [
    {
     "data": {
      "text/plain": [
       "label\n",
       "0    0.502857\n",
       "1    0.497143\n",
       "Name: proportion, dtype: float64"
      ]
     },
     "execution_count": 9,
     "metadata": {},
     "output_type": "execute_result"
    }
   ],
   "source": [
    "df_train['label'].value_counts(normalize=True)"
   ]
  },
  {
   "cell_type": "code",
   "execution_count": 10,
   "metadata": {},
   "outputs": [],
   "source": [
    "df_validation = df[trainSize:trainSize+validationSize]"
   ]
  },
  {
   "cell_type": "code",
   "execution_count": 11,
   "metadata": {},
   "outputs": [
    {
     "data": {
      "text/plain": [
       "label\n",
       "0    0.51625\n",
       "1    0.48375\n",
       "Name: proportion, dtype: float64"
      ]
     },
     "execution_count": 11,
     "metadata": {},
     "output_type": "execute_result"
    }
   ],
   "source": [
    "df_validation['label'].value_counts(normalize=True)"
   ]
  },
  {
   "cell_type": "code",
   "execution_count": 12,
   "metadata": {},
   "outputs": [],
   "source": [
    "df_test = df[trainSize+validationSize:]"
   ]
  },
  {
   "cell_type": "code",
   "execution_count": 13,
   "metadata": {},
   "outputs": [
    {
     "data": {
      "text/plain": [
       "label\n",
       "0    0.5125\n",
       "1    0.4875\n",
       "Name: proportion, dtype: float64"
      ]
     },
     "execution_count": 13,
     "metadata": {},
     "output_type": "execute_result"
    }
   ],
   "source": [
    "df_test['label'].value_counts(normalize=True)"
   ]
  },
  {
   "cell_type": "markdown",
   "metadata": {},
   "source": [
    "#### Function to extract the features and label for each sound file by iterating through every row of the dataframe"
   ]
  },
  {
   "cell_type": "code",
   "execution_count": 164,
   "metadata": {},
   "outputs": [],
   "source": [
    "import shutil\n",
    "shutil.rmtree('LibriSpeech/voice/')\n",
    "os.mkdir('LibriSpeech/voice/')\n",
    "files=os.listdir('LibriSpeech/female')\n",
    "for file in files:\n",
    "    shutil.copy('LibriSpeech/female/'+file,'LibriSpeech/voice/')\n",
    "files=os.listdir('LibriSpeech/male')\n",
    "for file in files:\n",
    "    shutil.copy('LibriSpeech/male/'+file,'LibriSpeech/voice/')"
   ]
  },
  {
   "cell_type": "code",
   "execution_count": 14,
   "metadata": {},
   "outputs": [],
   "source": [
    "# Although this function was modified and many parameteres were explored with, most of it\n",
    "# came from Source 8 (sources in the READ.ME)\n",
    "\n",
    "def extract_features(files):\n",
    "    \n",
    "    # Sets the name to be the path to where the file is in my computer\n",
    "    file_name = os.path.join(os.path.abspath('LibriSpeech/voice')+'/'+str(files.file))\n",
    "\n",
    "    # Loads the audio file as a floating point time series and assigns the default sample rate\n",
    "    # Sample rate is set to 22050 by default\n",
    "    X, sample_rate = librosa.load(file_name, res_type='kaiser_fast') \n",
    "\n",
    "    # Generate Mel-frequency cepstral coefficients (MFCCs) from a time series \n",
    "    mfccs = np.mean(librosa.feature.mfcc(y=X, sr=sample_rate, n_mfcc=40).T,axis=0)\n",
    "\n",
    "    # Generates a Short-time Fourier transform (STFT) to use in the chroma_stft\n",
    "    stft = np.abs(librosa.stft(X))\n",
    "\n",
    "    # Computes a chromagram from a waveform or power spectrogram.\n",
    "    chroma = np.mean(librosa.feature.chroma_stft(S=stft, sr=sample_rate).T,axis=0)\n",
    "\n",
    "    # Computes a mel-scaled spectrogram.\n",
    "    mel = np.mean(librosa.feature.melspectrogram(y=X, sr=sample_rate).T,axis=0)\n",
    "\n",
    "    # Computes spectral contrast\n",
    "    contrast = np.mean(librosa.feature.spectral_contrast(S=stft, sr=sample_rate).T,axis=0)\n",
    "\n",
    "    # Computes the tonal centroid features (tonnetz)\n",
    "    tonnetz = np.mean(librosa.feature.tonnetz(y=librosa.effects.harmonic(X),\n",
    "    sr=sample_rate).T,axis=0)\n",
    "        \n",
    "    \n",
    "    # We add also the classes of each file as a label at the end\n",
    "    label = files.label\n",
    "\n",
    "    return mfccs, chroma, mel, contrast, tonnetz, [label]"
   ]
  },
  {
   "cell_type": "code",
   "execution_count": 15,
   "metadata": {},
   "outputs": [],
   "source": [
    "# Code to start the timer to see how long it takes to extract the features\n",
    "startTime = datetime.now()"
   ]
  },
  {
   "cell_type": "code",
   "execution_count": 16,
   "metadata": {},
   "outputs": [
    {
     "name": "stderr",
     "output_type": "stream",
     "text": [
      "/home/pranav/Documents/Python/Project/Project Parts/temp/lib64/python3.8/site-packages/librosa/core/spectrum.py:256: UserWarning: n_fft=1024 is too large for input signal of length=820\n",
      "  warnings.warn(\n",
      "/home/pranav/Documents/Python/Project/Project Parts/temp/lib64/python3.8/site-packages/librosa/core/spectrum.py:256: UserWarning: n_fft=1024 is too large for input signal of length=727\n",
      "  warnings.warn(\n",
      "/home/pranav/Documents/Python/Project/Project Parts/temp/lib64/python3.8/site-packages/librosa/core/spectrum.py:256: UserWarning: n_fft=1024 is too large for input signal of length=963\n",
      "  warnings.warn(\n",
      "/home/pranav/Documents/Python/Project/Project Parts/temp/lib64/python3.8/site-packages/librosa/core/spectrum.py:256: UserWarning: n_fft=1024 is too large for input signal of length=721\n",
      "  warnings.warn(\n",
      "/home/pranav/Documents/Python/Project/Project Parts/temp/lib64/python3.8/site-packages/librosa/core/spectrum.py:256: UserWarning: n_fft=1024 is too large for input signal of length=765\n",
      "  warnings.warn(\n",
      "/home/pranav/Documents/Python/Project/Project Parts/temp/lib64/python3.8/site-packages/librosa/core/spectrum.py:256: UserWarning: n_fft=1024 is too large for input signal of length=929\n",
      "  warnings.warn(\n",
      "/home/pranav/Documents/Python/Project/Project Parts/temp/lib64/python3.8/site-packages/librosa/core/spectrum.py:256: UserWarning: n_fft=1024 is too large for input signal of length=1015\n",
      "  warnings.warn(\n",
      "/home/pranav/Documents/Python/Project/Project Parts/temp/lib64/python3.8/site-packages/librosa/core/spectrum.py:256: UserWarning: n_fft=1024 is too large for input signal of length=874\n",
      "  warnings.warn(\n",
      "/home/pranav/Documents/Python/Project/Project Parts/temp/lib64/python3.8/site-packages/librosa/core/spectrum.py:256: UserWarning: n_fft=1024 is too large for input signal of length=758\n",
      "  warnings.warn(\n",
      "/home/pranav/Documents/Python/Project/Project Parts/temp/lib64/python3.8/site-packages/librosa/core/spectrum.py:256: UserWarning: n_fft=1024 is too large for input signal of length=869\n",
      "  warnings.warn(\n",
      "/home/pranav/Documents/Python/Project/Project Parts/temp/lib64/python3.8/site-packages/librosa/core/spectrum.py:256: UserWarning: n_fft=1024 is too large for input signal of length=784\n",
      "  warnings.warn(\n",
      "/home/pranav/Documents/Python/Project/Project Parts/temp/lib64/python3.8/site-packages/librosa/core/spectrum.py:256: UserWarning: n_fft=1024 is too large for input signal of length=684\n",
      "  warnings.warn(\n",
      "/home/pranav/Documents/Python/Project/Project Parts/temp/lib64/python3.8/site-packages/librosa/core/spectrum.py:256: UserWarning: n_fft=1024 is too large for input signal of length=958\n",
      "  warnings.warn(\n",
      "/home/pranav/Documents/Python/Project/Project Parts/temp/lib64/python3.8/site-packages/librosa/core/spectrum.py:256: UserWarning: n_fft=1024 is too large for input signal of length=741\n",
      "  warnings.warn(\n",
      "/home/pranav/Documents/Python/Project/Project Parts/temp/lib64/python3.8/site-packages/librosa/core/spectrum.py:256: UserWarning: n_fft=1024 is too large for input signal of length=646\n",
      "  warnings.warn(\n",
      "/home/pranav/Documents/Python/Project/Project Parts/temp/lib64/python3.8/site-packages/librosa/core/spectrum.py:256: UserWarning: n_fft=1024 is too large for input signal of length=803\n",
      "  warnings.warn(\n",
      "/home/pranav/Documents/Python/Project/Project Parts/temp/lib64/python3.8/site-packages/librosa/core/spectrum.py:256: UserWarning: n_fft=1024 is too large for input signal of length=920\n",
      "  warnings.warn(\n",
      "/home/pranav/Documents/Python/Project/Project Parts/temp/lib64/python3.8/site-packages/librosa/core/spectrum.py:256: UserWarning: n_fft=1024 is too large for input signal of length=1000\n",
      "  warnings.warn(\n",
      "/home/pranav/Documents/Python/Project/Project Parts/temp/lib64/python3.8/site-packages/librosa/core/spectrum.py:256: UserWarning: n_fft=1024 is too large for input signal of length=976\n",
      "  warnings.warn(\n",
      "/home/pranav/Documents/Python/Project/Project Parts/temp/lib64/python3.8/site-packages/librosa/core/spectrum.py:256: UserWarning: n_fft=1024 is too large for input signal of length=1022\n",
      "  warnings.warn(\n",
      "/home/pranav/Documents/Python/Project/Project Parts/temp/lib64/python3.8/site-packages/librosa/core/spectrum.py:256: UserWarning: n_fft=1024 is too large for input signal of length=939\n",
      "  warnings.warn(\n",
      "/home/pranav/Documents/Python/Project/Project Parts/temp/lib64/python3.8/site-packages/librosa/core/spectrum.py:256: UserWarning: n_fft=1024 is too large for input signal of length=729\n",
      "  warnings.warn(\n",
      "/home/pranav/Documents/Python/Project/Project Parts/temp/lib64/python3.8/site-packages/librosa/core/spectrum.py:256: UserWarning: n_fft=1024 is too large for input signal of length=793\n",
      "  warnings.warn(\n",
      "/home/pranav/Documents/Python/Project/Project Parts/temp/lib64/python3.8/site-packages/librosa/core/spectrum.py:256: UserWarning: n_fft=1024 is too large for input signal of length=1008\n",
      "  warnings.warn(\n",
      "/home/pranav/Documents/Python/Project/Project Parts/temp/lib64/python3.8/site-packages/librosa/core/spectrum.py:256: UserWarning: n_fft=1024 is too large for input signal of length=993\n",
      "  warnings.warn(\n",
      "/home/pranav/Documents/Python/Project/Project Parts/temp/lib64/python3.8/site-packages/librosa/core/spectrum.py:256: UserWarning: n_fft=1024 is too large for input signal of length=895\n",
      "  warnings.warn(\n",
      "/home/pranav/Documents/Python/Project/Project Parts/temp/lib64/python3.8/site-packages/librosa/core/spectrum.py:256: UserWarning: n_fft=1024 is too large for input signal of length=769\n",
      "  warnings.warn(\n",
      "/home/pranav/Documents/Python/Project/Project Parts/temp/lib64/python3.8/site-packages/librosa/core/spectrum.py:256: UserWarning: n_fft=1024 is too large for input signal of length=848\n",
      "  warnings.warn(\n",
      "/home/pranav/Documents/Python/Project/Project Parts/temp/lib64/python3.8/site-packages/librosa/core/spectrum.py:256: UserWarning: n_fft=1024 is too large for input signal of length=1010\n",
      "  warnings.warn(\n",
      "/home/pranav/Documents/Python/Project/Project Parts/temp/lib64/python3.8/site-packages/librosa/core/spectrum.py:256: UserWarning: n_fft=1024 is too large for input signal of length=886\n",
      "  warnings.warn(\n",
      "/home/pranav/Documents/Python/Project/Project Parts/temp/lib64/python3.8/site-packages/librosa/core/spectrum.py:256: UserWarning: n_fft=1024 is too large for input signal of length=779\n",
      "  warnings.warn(\n",
      "/home/pranav/Documents/Python/Project/Project Parts/temp/lib64/python3.8/site-packages/librosa/core/spectrum.py:256: UserWarning: n_fft=1024 is too large for input signal of length=1003\n",
      "  warnings.warn(\n",
      "/home/pranav/Documents/Python/Project/Project Parts/temp/lib64/python3.8/site-packages/librosa/core/spectrum.py:256: UserWarning: n_fft=1024 is too large for input signal of length=864\n",
      "  warnings.warn(\n",
      "/home/pranav/Documents/Python/Project/Project Parts/temp/lib64/python3.8/site-packages/librosa/core/spectrum.py:256: UserWarning: n_fft=1024 is too large for input signal of length=998\n",
      "  warnings.warn(\n",
      "/home/pranav/Documents/Python/Project/Project Parts/temp/lib64/python3.8/site-packages/librosa/core/spectrum.py:256: UserWarning: n_fft=1024 is too large for input signal of length=893\n",
      "  warnings.warn(\n",
      "/home/pranav/Documents/Python/Project/Project Parts/temp/lib64/python3.8/site-packages/librosa/core/spectrum.py:256: UserWarning: n_fft=1024 is too large for input signal of length=745\n",
      "  warnings.warn(\n",
      "/home/pranav/Documents/Python/Project/Project Parts/temp/lib64/python3.8/site-packages/librosa/core/spectrum.py:256: UserWarning: n_fft=1024 is too large for input signal of length=826\n",
      "  warnings.warn(\n",
      "/home/pranav/Documents/Python/Project/Project Parts/temp/lib64/python3.8/site-packages/librosa/core/spectrum.py:256: UserWarning: n_fft=1024 is too large for input signal of length=808\n",
      "  warnings.warn(\n",
      "/home/pranav/Documents/Python/Project/Project Parts/temp/lib64/python3.8/site-packages/librosa/core/spectrum.py:256: UserWarning: n_fft=1024 is too large for input signal of length=1007\n",
      "  warnings.warn(\n"
     ]
    }
   ],
   "source": [
    "# Applying the function to the train data by accessing each row of the dataframe\n",
    "features_label = df.apply(extract_features, axis=1)"
   ]
  },
  {
   "cell_type": "code",
   "execution_count": 17,
   "metadata": {},
   "outputs": [
    {
     "name": "stdout",
     "output_type": "stream",
     "text": [
      "0:51:36.680162\n"
     ]
    }
   ],
   "source": [
    "# Code to see how long it took\n",
    "print(datetime.now() - startTime)"
   ]
  },
  {
   "cell_type": "code",
   "execution_count": 18,
   "metadata": {},
   "outputs": [
    {
     "data": {
      "text/plain": [
       "(array([-3.1438177e+02,  1.3311972e+02, -2.5159052e+01,  6.5748894e+01,\n",
       "         8.0905027e+00,  1.2254439e+01, -6.6269279e+00, -1.4021969e+00,\n",
       "        -7.2114978e+00, -2.9154968e+00,  1.9524661e+00, -1.1696124e+01,\n",
       "         7.4088817e+00, -1.1654874e+01,  4.1731825e+00, -3.4575641e-01,\n",
       "        -1.1796686e+01,  3.3051224e+00, -4.7474465e+00, -5.7371986e-01,\n",
       "        -1.2819488e+00, -1.6285330e-01, -2.9111192e+00, -2.4485114e+00,\n",
       "        -1.3876005e+00, -4.1561007e+00, -1.1209280e+00, -3.5630791e+00,\n",
       "        -4.2778664e+00, -4.4797058e+00, -2.5091722e+00, -3.6971798e+00,\n",
       "        -9.1937864e-01, -1.1209674e+00, -3.1856174e+00, -2.9650471e-01,\n",
       "        -3.1956730e+00, -1.0369073e+00, -6.9682252e-01, -2.0682778e+00],\n",
       "       dtype=float32),\n",
       " array([0.5758887 , 0.5957603 , 0.6184722 , 0.6429927 , 0.6597313 ,\n",
       "        0.62969196, 0.6437877 , 0.6714329 , 0.6293066 , 0.6138411 ,\n",
       "        0.58489174, 0.5580036 ], dtype=float32),\n",
       " array([3.89341354e-01, 5.19423544e-01, 6.82765245e+00, 2.02215023e+01,\n",
       "        2.13877163e+01, 1.79911194e+01, 1.24562254e+01, 1.11193304e+01,\n",
       "        6.83869028e+00, 7.62173176e+00, 7.44563961e+00, 6.60668039e+00,\n",
       "        5.34320116e+00, 3.96785402e+00, 5.49844408e+00, 6.18584204e+00,\n",
       "        2.90636277e+00, 1.51093447e+00, 1.12499619e+00, 3.29603267e+00,\n",
       "        3.08903646e+00, 1.81009281e+00, 1.55236387e+00, 1.25844753e+00,\n",
       "        9.43898559e-01, 1.28642213e+00, 1.03076041e+00, 4.71366167e-01,\n",
       "        2.64571607e-01, 5.37741184e-01, 6.57827437e-01, 3.16307873e-01,\n",
       "        2.72619545e-01, 1.22300498e-01, 1.10997111e-01, 1.73136950e-01,\n",
       "        1.20012954e-01, 8.08875337e-02, 9.78099182e-02, 1.54956847e-01,\n",
       "        1.82634532e-01, 1.54475451e-01, 9.16652903e-02, 6.74805641e-02,\n",
       "        8.64971504e-02, 1.46714330e-01, 1.57820389e-01, 1.37192473e-01,\n",
       "        1.55598372e-01, 1.75845742e-01, 1.93878815e-01, 1.83371648e-01,\n",
       "        1.40421584e-01, 1.63735673e-01, 2.85579979e-01, 2.14863092e-01,\n",
       "        2.06488788e-01, 1.96524054e-01, 2.79935390e-01, 1.49418846e-01,\n",
       "        1.76563114e-01, 1.23855114e-01, 1.07427940e-01, 7.39517882e-02,\n",
       "        8.80613327e-02, 9.78890583e-02, 1.02449402e-01, 8.41882676e-02,\n",
       "        7.86119252e-02, 7.85448551e-02, 1.00276567e-01, 1.21583052e-01,\n",
       "        8.51887614e-02, 7.38990977e-02, 8.96547586e-02, 7.91596100e-02,\n",
       "        4.72590663e-02, 3.45594324e-02, 3.00112441e-02, 2.80288123e-02,\n",
       "        2.35941820e-02, 2.41938084e-02, 2.62970235e-02, 2.53066607e-02,\n",
       "        3.43071818e-02, 4.36485596e-02, 4.29286398e-02, 4.47352715e-02,\n",
       "        3.97837274e-02, 2.36926991e-02, 1.37488246e-02, 1.01456586e-02,\n",
       "        1.15768835e-02, 1.17936339e-02, 1.72880739e-02, 1.52109563e-02,\n",
       "        1.38926273e-02, 1.21141719e-02, 1.20925605e-02, 1.26894340e-02,\n",
       "        8.35939590e-03, 9.49890446e-03, 7.21064908e-03, 6.21716492e-03,\n",
       "        5.30670770e-03, 4.09963075e-03, 3.21444031e-03, 3.19309300e-03,\n",
       "        2.29083211e-03, 1.26353931e-03, 5.75462938e-04, 1.81443422e-04,\n",
       "        4.93595107e-05, 6.07418406e-06, 4.83634096e-07, 1.95504342e-08,\n",
       "        9.86747420e-11, 2.08286687e-12, 2.84034168e-12, 1.94398837e-12,\n",
       "        1.45887881e-12, 1.46239986e-12, 2.37383745e-12, 4.31498630e-12,\n",
       "        3.78177264e-12, 3.53040145e-12, 2.70191335e-12, 1.92385799e-12],\n",
       "       dtype=float32),\n",
       " array([19.84829421, 14.87973113, 18.04370263, 15.54426634, 17.63196926,\n",
       "        20.52061011, 54.38899624]),\n",
       " array([-0.0014188 ,  0.02352014,  0.01937767,  0.00580141,  0.0162764 ,\n",
       "         0.00147894]),\n",
       " ['1'])"
      ]
     },
     "execution_count": 18,
     "metadata": {},
     "output_type": "execute_result"
    }
   ],
   "source": [
    "# Checking how the output looks\n",
    "features_label[0]"
   ]
  },
  {
   "cell_type": "code",
   "execution_count": 19,
   "metadata": {},
   "outputs": [],
   "source": [
    "# The next code in markdown saves the numpy array (in case our kernel restarts or \n",
    "# anything happens, because it takes long to extract the features)\n",
    "\n",
    "#np.save('features_label', features_label)"
   ]
  },
  {
   "cell_type": "code",
   "execution_count": 32,
   "metadata": {},
   "outputs": [],
   "source": [
    "# The next code loads the saved numpy array of our extracted features\n",
    "# features_label = np.load('features_label.npy', allow_pickle=True)"
   ]
  },
  {
   "cell_type": "code",
   "execution_count": 20,
   "metadata": {
    "scrolled": true
   },
   "outputs": [],
   "source": [
    "# We create an empty list where we will concatenate all the features into one long feature\n",
    "# for each file to feed into our neural network \n",
    "\n",
    "features = []\n",
    "for i in range(0, len(features_label)):\n",
    "    features.append(np.concatenate((features_label[i][0], features_label[i][1], \n",
    "                features_label[i][2], features_label[i][3],\n",
    "                features_label[i][4],features_label[i][5]), axis=0))"
   ]
  },
  {
   "cell_type": "code",
   "execution_count": 21,
   "metadata": {},
   "outputs": [
    {
     "data": {
      "text/plain": [
       "array(['-314.38177', '133.11972', '-25.159052', '65.74889', '8.090503',\n",
       "       '12.254439', '-6.626928', '-1.4021969', '-7.211498', '-2.9154968',\n",
       "       '1.9524661', '-11.696124', '7.4088817', '-11.654874', '4.1731825',\n",
       "       '-0.3457564', '-11.796686', '3.3051224', '-4.7474465',\n",
       "       '-0.57371986', '-1.2819488', '-0.1628533', '-2.9111192',\n",
       "       '-2.4485114', '-1.3876005', '-4.1561007', '-1.120928', '-3.563079',\n",
       "       '-4.2778664', '-4.479706', '-2.5091722', '-3.6971798',\n",
       "       '-0.91937864', '-1.1209674', '-3.1856174', '-0.2965047',\n",
       "       '-3.195673', '-1.0369073', '-0.6968225', '-2.0682778', '0.5758887',\n",
       "       '0.5957603', '0.6184722', '0.6429927', '0.6597313', '0.62969196',\n",
       "       '0.6437877', '0.6714329', '0.6293066', '0.6138411', '0.58489174',\n",
       "       '0.5580036', '0.38934135', '0.51942354', '6.8276525', '20.221502',\n",
       "       '21.387716', '17.99112', '12.456225', '11.11933', '6.8386903',\n",
       "       '7.6217318', '7.4456396', '6.6066804', '5.343201', '3.967854',\n",
       "       '5.498444', '6.185842', '2.9063628', '1.5109345', '1.1249962',\n",
       "       '3.2960327', '3.0890365', '1.8100928', '1.5523639', '1.2584475',\n",
       "       '0.94389856', '1.2864221', '1.0307604', '0.47136617', '0.2645716',\n",
       "       '0.5377412', '0.65782744', '0.31630787', '0.27261955', '0.1223005',\n",
       "       '0.11099711', '0.17313695', '0.120012954', '0.08088753',\n",
       "       '0.09780992', '0.15495685', '0.18263453', '0.15447545',\n",
       "       '0.09166529', '0.067480564', '0.08649715', '0.14671433',\n",
       "       '0.15782039', '0.13719247', '0.15559837', '0.17584574',\n",
       "       '0.19387881', '0.18337165', '0.14042158', '0.16373567',\n",
       "       '0.28557998', '0.21486309', '0.20648879', '0.19652405',\n",
       "       '0.2799354', '0.14941885', '0.17656311', '0.123855114',\n",
       "       '0.10742794', '0.07395179', '0.08806133', '0.09788906',\n",
       "       '0.1024494', '0.08418827', '0.078611925', '0.078544855',\n",
       "       '0.10027657', '0.12158305', '0.08518876', '0.0738991',\n",
       "       '0.08965476', '0.07915961', '0.047259066', '0.034559432',\n",
       "       '0.030011244', '0.028028812', '0.023594182', '0.024193808',\n",
       "       '0.026297024', '0.02530666', '0.03430718', '0.04364856',\n",
       "       '0.04292864', '0.04473527', '0.039783727', '0.0236927',\n",
       "       '0.013748825', '0.010145659', '0.0115768835', '0.011793634',\n",
       "       '0.017288074', '0.015210956', '0.013892627', '0.012114172',\n",
       "       '0.0120925605', '0.012689434', '0.008359396', '0.009498904',\n",
       "       '0.007210649', '0.006217165', '0.0053067077', '0.0040996308',\n",
       "       '0.0032144403', '0.003193093', '0.002290832', '0.0012635393',\n",
       "       '0.00057546294', '0.00018144342', '4.935951e-05', '6.074184e-06',\n",
       "       '4.836341e-07', '1.9550434e-08', '9.867474e-11', '2.0828669e-12',\n",
       "       '2.8403417e-12', '1.9439884e-12', '1.4588788e-12', '1.4623999e-12',\n",
       "       '2.3738375e-12', '4.3149863e-12', '3.7817726e-12', '3.5304014e-12',\n",
       "       '2.7019133e-12', '1.923858e-12', '19.848294213022342',\n",
       "       '14.879731128892637', '18.04370263095928', '15.544266343766433',\n",
       "       '17.63196926255007', '20.52061010675723', '54.388996237128296',\n",
       "       '-0.0014187989856025037', '0.023520135474234916',\n",
       "       '0.019377667440687862', '0.005801413721859697',\n",
       "       '0.016276404657739985', '0.0014789447408787486', '1'], dtype='<U32')"
      ]
     },
     "execution_count": 21,
     "metadata": {},
     "output_type": "execute_result"
    }
   ],
   "source": [
    "features[0]"
   ]
  },
  {
   "cell_type": "code",
   "execution_count": 22,
   "metadata": {},
   "outputs": [
    {
     "data": {
      "text/plain": [
       "4000"
      ]
     },
     "execution_count": 22,
     "metadata": {},
     "output_type": "execute_result"
    }
   ],
   "source": [
    "len(features)"
   ]
  },
  {
   "cell_type": "markdown",
   "metadata": {},
   "source": [
    "#### We will add the speaker id to our dataframe to have that as the label for our model and predict speakers from their voice"
   ]
  },
  {
   "cell_type": "code",
   "execution_count": 23,
   "metadata": {},
   "outputs": [],
   "source": [
    "# We create an empty list where we will append all the speakers ids for each row of our\n",
    "# dataframe by slicing the file name since we know the id is the first numbers before the hash\n",
    "speaker = []\n",
    "for i in range(0, len(df)):\n",
    "    speaker.append(df['file'][i].split('-')[0])"
   ]
  },
  {
   "cell_type": "code",
   "execution_count": 24,
   "metadata": {},
   "outputs": [],
   "source": [
    "# Now we create the speaker column in our dataframe and set it equal to our speaker list\n",
    "df['speaker'] = speaker"
   ]
  },
  {
   "cell_type": "code",
   "execution_count": 25,
   "metadata": {},
   "outputs": [
    {
     "data": {
      "text/html": [
       "<div>\n",
       "<style scoped>\n",
       "    .dataframe tbody tr th:only-of-type {\n",
       "        vertical-align: middle;\n",
       "    }\n",
       "\n",
       "    .dataframe tbody tr th {\n",
       "        vertical-align: top;\n",
       "    }\n",
       "\n",
       "    .dataframe thead th {\n",
       "        text-align: right;\n",
       "    }\n",
       "</style>\n",
       "<table border=\"1\" class=\"dataframe\">\n",
       "  <thead>\n",
       "    <tr style=\"text-align: right;\">\n",
       "      <th></th>\n",
       "      <th>file</th>\n",
       "      <th>label</th>\n",
       "      <th>speaker</th>\n",
       "    </tr>\n",
       "  </thead>\n",
       "  <tbody>\n",
       "    <tr>\n",
       "      <th>0</th>\n",
       "      <td>5750-100289-0021.flac</td>\n",
       "      <td>1</td>\n",
       "      <td>5750</td>\n",
       "    </tr>\n",
       "    <tr>\n",
       "      <th>1</th>\n",
       "      <td>6476-57446-0022.flac</td>\n",
       "      <td>0</td>\n",
       "      <td>6476</td>\n",
       "    </tr>\n",
       "    <tr>\n",
       "      <th>2</th>\n",
       "      <td>4680-16042-0003.flac</td>\n",
       "      <td>0</td>\n",
       "      <td>4680</td>\n",
       "    </tr>\n",
       "    <tr>\n",
       "      <th>3</th>\n",
       "      <td>7067-76048-0034.flac</td>\n",
       "      <td>1</td>\n",
       "      <td>7067</td>\n",
       "    </tr>\n",
       "    <tr>\n",
       "      <th>4</th>\n",
       "      <td>587-54108-0034.flac</td>\n",
       "      <td>0</td>\n",
       "      <td>587</td>\n",
       "    </tr>\n",
       "  </tbody>\n",
       "</table>\n",
       "</div>"
      ],
      "text/plain": [
       "                    file label speaker\n",
       "0  5750-100289-0021.flac     1    5750\n",
       "1   6476-57446-0022.flac     0    6476\n",
       "2   4680-16042-0003.flac     0    4680\n",
       "3   7067-76048-0034.flac     1    7067\n",
       "4    587-54108-0034.flac     0     587"
      ]
     },
     "execution_count": 25,
     "metadata": {},
     "output_type": "execute_result"
    }
   ],
   "source": [
    "# Checking that it worked as expected\n",
    "df.head()"
   ]
  },
  {
   "cell_type": "code",
   "execution_count": 69,
   "metadata": {},
   "outputs": [
    {
     "data": {
      "text/plain": [
       "250"
      ]
     },
     "execution_count": 69,
     "metadata": {},
     "output_type": "execute_result"
    }
   ],
   "source": [
    "# Checking the number of speakers or the number of different people in our voice data\n",
    "df['speaker'].nunique()"
   ]
  },
  {
   "cell_type": "code",
   "execution_count": 27,
   "metadata": {},
   "outputs": [],
   "source": [
    "# Setting our labels to be equal to our speaker list\n",
    "labels = speaker"
   ]
  },
  {
   "cell_type": "code",
   "execution_count": 28,
   "metadata": {},
   "outputs": [
    {
     "data": {
      "text/plain": [
       "4000"
      ]
     },
     "execution_count": 28,
     "metadata": {},
     "output_type": "execute_result"
    }
   ],
   "source": [
    "# Checking the size of labels and making sure it matches the size of features\n",
    "len(labels)"
   ]
  },
  {
   "cell_type": "markdown",
   "metadata": {},
   "source": [
    "#### Checking if we have balanced classes for the whole data"
   ]
  },
  {
   "cell_type": "code",
   "execution_count": 70,
   "metadata": {
    "scrolled": true
   },
   "outputs": [
    {
     "data": {
      "text/plain": [
       "(array(['103', '1034', '1040', '1069', '1081', '1088', '1116', '118',\n",
       "        '1183', '1235', '1246', '125', '1263', '1334', '1355', '1363',\n",
       "        '1447', '1455', '150', '1502', '1553', '1578', '1594', '1624',\n",
       "        '163', '1723', '1737', '1743', '1841', '1867', '1898', '19',\n",
       "        '1926', '196', '1963', '1970', '198', '1992', '200', '2002',\n",
       "        '2007', '201', '2092', '211', '2136', '2159', '2182', '2196',\n",
       "        '226', '2289', '229', '233', '2384', '2391', '2416', '2436', '248',\n",
       "        '250', '2514', '2518', '254', '26', '2691', '27', '2764', '2817',\n",
       "        '2836', '2843', '289', '2893', '2910', '2911', '2952', '298',\n",
       "        '2989', '302', '307', '311', '3112', '3168', '32', '3214', '322',\n",
       "        '3235', '3240', '3242', '3259', '328', '332', '3374', '3436',\n",
       "        '3440', '3486', '3526', '3607', '3664', '3699', '3723', '374',\n",
       "        '3807', '3830', '3857', '3879', '39', '3947', '3982', '3983', '40',\n",
       "        '4014', '4018', '403', '405', '4051', '4088', '412', '4137',\n",
       "        '4160', '4195', '4214', '426', '4267', '4297', '4340', '4362',\n",
       "        '4397', '4406', '441', '4441', '445', '446', '4481', '458', '460',\n",
       "        '4640', '4680', '4788', '481', '4813', '4830', '4853', '4859',\n",
       "        '4898', '5022', '5049', '5104', '5163', '5192', '5322', '5339',\n",
       "        '5390', '5393', '5456', '5463', '5514', '5561', '5652', '5678',\n",
       "        '5688', '5703', '5750', '5778', '5789', '5808', '5867', '587',\n",
       "        '60', '6000', '6019', '6064', '6078', '6081', '6147', '6181',\n",
       "        '6209', '625', '6272', '6367', '6385', '6415', '6437', '6454',\n",
       "        '6476', '6529', '6531', '6563', '669', '6818', '6836', '6848',\n",
       "        '6880', '6925', '696', '7059', '7067', '7078', '7113', '7148',\n",
       "        '7178', '7190', '7226', '7264', '7278', '730', '7302', '7312',\n",
       "        '7367', '7402', '7447', '7505', '7511', '7517', '7635', '7780',\n",
       "        '7794', '78', '7800', '7859', '8014', '8051', '8063', '8088',\n",
       "        '8095', '8098', '8108', '8123', '8226', '8238', '83', '831',\n",
       "        '8312', '8324', '839', '8419', '8425', '8465', '8468', '8580',\n",
       "        '8609', '8629', '8630', '87', '8747', '8770', '8797', '8838',\n",
       "        '887', '89', '8975', '909', '911'], dtype='<U4'),\n",
       " array([11,  5,  5, 28, 12, 12, 18, 16, 22, 14, 19, 14, 13, 20, 11, 19, 19,\n",
       "        12, 19, 20, 10, 17, 26, 15, 22, 10, 18, 13,  9, 24, 26,  2,  9, 20,\n",
       "        24, 26, 29, 11, 12, 11,  9, 19, 15, 21, 14, 15, 16, 16,  9,  9, 13,\n",
       "         3, 10, 12, 14, 10,  9, 15,  7, 18, 16, 25, 14, 17, 19, 14, 38, 20,\n",
       "        13, 21, 14, 24, 17,  5, 24, 22, 32, 20, 18, 14, 11, 20, 31, 24, 10,\n",
       "        26,  9, 13, 18, 13,  7, 16, 18,  9, 13, 10,  4, 26, 23, 16,  7,  7,\n",
       "        11, 18,  9, 20,  9, 15, 23,  8, 11, 19,  8, 28,  6, 24, 17, 21,  5,\n",
       "        14, 16, 12, 23, 15, 22, 21, 25, 19,  8, 11,  5,  6, 13, 21, 27, 24,\n",
       "        14,  4, 11, 13, 16, 13, 18,  3, 14, 13, 27, 32, 15, 18, 30, 24, 21,\n",
       "        19, 21, 23,  7, 15, 26, 21, 14, 20, 24,  8, 11,  7, 15, 18,  9, 12,\n",
       "         7, 10, 16, 19,  9,  9, 28, 16, 19, 18, 12, 17, 20, 15, 19, 11, 16,\n",
       "        29,  4, 15,  4, 27, 11, 12, 20, 14, 15, 16, 29, 14,  7, 24, 12, 19,\n",
       "         3, 15, 14,  9, 26, 32, 17, 16, 21, 28, 22, 23, 11,  6, 19, 22, 12,\n",
       "        14, 13, 10,  6, 16, 19, 25, 14, 10, 19, 13, 16, 28, 15,  9, 22, 18,\n",
       "        25,  7, 24, 28, 21,  3, 22,  5, 17, 26,  7, 14]))"
      ]
     },
     "execution_count": 70,
     "metadata": {},
     "output_type": "execute_result"
    }
   ],
   "source": [
    "# They look somewhat balanced with a min of 56 and a max of 166, mean of 114 \n",
    "# with standard deviation of 15.89 (calculated from scipy)\n",
    "np.unique(labels, return_counts=True)"
   ]
  },
  {
   "cell_type": "markdown",
   "metadata": {},
   "source": [
    "#### Hot encoding y and pre processing X and y"
   ]
  },
  {
   "cell_type": "code",
   "execution_count": 30,
   "metadata": {},
   "outputs": [],
   "source": [
    "X = np.array(features)"
   ]
  },
  {
   "cell_type": "code",
   "execution_count": 31,
   "metadata": {},
   "outputs": [],
   "source": [
    "y = np.array(labels)"
   ]
  },
  {
   "cell_type": "code",
   "execution_count": 32,
   "metadata": {},
   "outputs": [],
   "source": [
    "# Hot encoding y\n",
    "lb = LabelEncoder()\n",
    "y = to_categorical(lb.fit_transform(y))"
   ]
  },
  {
   "cell_type": "code",
   "execution_count": 33,
   "metadata": {},
   "outputs": [
    {
     "data": {
      "text/plain": [
       "(4000, 194)"
      ]
     },
     "execution_count": 33,
     "metadata": {},
     "output_type": "execute_result"
    }
   ],
   "source": [
    "X.shape"
   ]
  },
  {
   "cell_type": "code",
   "execution_count": 72,
   "metadata": {},
   "outputs": [
    {
     "data": {
      "text/plain": [
       "array([0., 0., 0., 0., 0., 0., 0., 0., 0., 0., 0., 0., 0., 0., 0., 0., 0.,\n",
       "       0., 0., 0., 0., 0., 0., 0., 0., 0., 0., 0., 0., 0., 0., 0., 0., 0.,\n",
       "       0., 0., 0., 0., 0., 0., 0., 0., 0., 0., 0., 0., 0., 0., 0., 0., 0.,\n",
       "       0., 0., 0., 0., 0., 0., 0., 0., 0., 0., 0., 0., 0., 0., 0., 0., 0.,\n",
       "       0., 0., 0., 0., 0., 0., 0., 0., 0., 0., 0., 0., 0., 0., 0., 0., 0.,\n",
       "       0., 0., 0., 0., 0., 0., 0., 0., 0., 0., 0., 0., 0., 0., 0., 0., 0.,\n",
       "       0., 0., 0., 0., 0., 0., 0., 0., 0., 0., 0., 0., 0., 0., 0., 0., 0.,\n",
       "       0., 0., 0., 0., 0., 0., 0., 0., 0., 0., 0., 0., 0., 0., 0., 0., 0.,\n",
       "       0., 0., 0., 0., 0., 0., 0., 0., 0., 0., 0., 0., 0., 0., 0., 0., 0.,\n",
       "       0., 0., 0., 0., 0., 0., 1., 0., 0., 0., 0., 0., 0., 0., 0., 0., 0.,\n",
       "       0., 0., 0., 0., 0., 0., 0., 0., 0., 0., 0., 0., 0., 0., 0., 0., 0.,\n",
       "       0., 0., 0., 0., 0., 0., 0., 0., 0., 0., 0., 0., 0., 0., 0., 0., 0.,\n",
       "       0., 0., 0., 0., 0., 0., 0., 0., 0., 0., 0., 0., 0., 0., 0., 0., 0.,\n",
       "       0., 0., 0., 0., 0., 0., 0., 0., 0., 0., 0., 0., 0., 0., 0., 0., 0.,\n",
       "       0., 0., 0., 0., 0., 0., 0., 0., 0., 0., 0., 0.], dtype=float32)"
      ]
     },
     "execution_count": 72,
     "metadata": {},
     "output_type": "execute_result"
    }
   ],
   "source": [
    "y[0]"
   ]
  },
  {
   "cell_type": "code",
   "execution_count": 35,
   "metadata": {},
   "outputs": [],
   "source": [
    "# Choosing the first 9188 (70%) files to be our train data\n",
    "# Choosing the next  2625 (20%) files to be our validation data\n",
    "# Choosing the next  1312 (10%) files to be our test never before seen data\n",
    "# This is analogous to a train test split but we add a validation split and we are making\n",
    "# we do not shuffle anything since we are dealing with several time series, we already \n",
    "# checked before that we have balanced classes (analogous to stratify)\n",
    "\n",
    "X_train = X[:trainSize]\n",
    "y_train = y[:trainSize]\n",
    "\n",
    "X_val = X[trainSize:trainSize+validationSize]\n",
    "y_val = y[trainSize:trainSize+validationSize]\n",
    "\n",
    "X_test = X[trainSize+validationSize:]\n",
    "y_test = y[trainSize+validationSize:]"
   ]
  },
  {
   "cell_type": "code",
   "execution_count": 36,
   "metadata": {},
   "outputs": [],
   "source": [
    "ss = StandardScaler()\n",
    "X_train = ss.fit_transform(X_train)\n",
    "X_val = ss.transform(X_val)\n",
    "X_test = ss.transform(X_test)"
   ]
  },
  {
   "cell_type": "code",
   "execution_count": 5,
   "metadata": {},
   "outputs": [],
   "source": [
    "    # Build a simple dense model with early stopping with softmax for categorical classification\n",
    "    # We have 251 classes \n",
    "\n",
    "    model = Sequential()\n",
    "\n",
    "    model.add(Dense(X.shape[1], input_shape=(X.shape[1],), activation = 'relu'))\n",
    "    model.add(Dropout(0.1))\n",
    "\n",
    "    model.add(Dense(128, activation = 'relu'))\n",
    "    model.add(Dropout(0.25))  \n",
    "\n",
    "    model.add(Dense(128, activation = 'relu'))\n",
    "    model.add(Dropout(0.5))    \n",
    "\n",
    "    model.add(Dense(y.shape[1], activation = 'sigmoid'))\n",
    "\n",
    "    model.compile(loss='categorical_crossentropy', metrics=['accuracy'], optimizer='adam')\n",
    "\n",
    "    early_stop = EarlyStopping(monitor='val_loss', min_delta=0, patience=100, verbose=1, mode='auto')"
   ]
  },
  {
   "cell_type": "code",
   "execution_count": 9,
   "metadata": {},
   "outputs": [
    {
     "data": {
      "text/plain": [
       "[]"
      ]
     },
     "execution_count": 9,
     "metadata": {},
     "output_type": "execute_result"
    }
   ],
   "source": [
    "from tensorflow.python.keras import backend as K\n",
    "K._get_available_gpus()"
   ]
  },
  {
   "cell_type": "code",
   "execution_count": 13,
   "metadata": {},
   "outputs": [
    {
     "name": "stdout",
     "output_type": "stream",
     "text": [
      "Epoch 1/1000\n",
      "40/40 [==============================] - 1s 29ms/step - loss: 0.0819 - accuracy: 0.9768 - val_loss: 0.0275 - val_accuracy: 0.9978\n",
      "Epoch 2/1000\n",
      "40/40 [==============================] - 1s 27ms/step - loss: 0.0714 - accuracy: 0.9792 - val_loss: 0.0262 - val_accuracy: 0.9978\n",
      "Epoch 3/1000\n",
      "40/40 [==============================] - 1s 21ms/step - loss: 0.0712 - accuracy: 0.9804 - val_loss: 0.0319 - val_accuracy: 0.9978\n",
      "Epoch 4/1000\n",
      "40/40 [==============================] - 1s 19ms/step - loss: 0.0607 - accuracy: 0.9821 - val_loss: 0.0294 - val_accuracy: 0.9978\n",
      "Epoch 5/1000\n",
      "40/40 [==============================] - 1s 19ms/step - loss: 0.0577 - accuracy: 0.9827 - val_loss: 0.0282 - val_accuracy: 0.9978\n",
      "Epoch 6/1000\n",
      "40/40 [==============================] - 1s 21ms/step - loss: 0.0578 - accuracy: 0.9829 - val_loss: 0.0282 - val_accuracy: 0.9980\n",
      "Epoch 7/1000\n",
      "40/40 [==============================] - 1s 21ms/step - loss: 0.0561 - accuracy: 0.9837 - val_loss: 0.0267 - val_accuracy: 0.9980\n",
      "Epoch 8/1000\n",
      "40/40 [==============================] - 1s 19ms/step - loss: 0.0573 - accuracy: 0.9836 - val_loss: 0.0260 - val_accuracy: 0.9979\n",
      "Epoch 9/1000\n",
      "40/40 [==============================] - 1s 19ms/step - loss: 0.0524 - accuracy: 0.9845 - val_loss: 0.0276 - val_accuracy: 0.9978\n",
      "Epoch 10/1000\n",
      "40/40 [==============================] - 1s 21ms/step - loss: 0.0496 - accuracy: 0.9855 - val_loss: 0.0241 - val_accuracy: 0.9979\n",
      "Epoch 11/1000\n",
      "40/40 [==============================] - 1s 20ms/step - loss: 0.0504 - accuracy: 0.9852 - val_loss: 0.0228 - val_accuracy: 0.9978\n",
      "Epoch 12/1000\n",
      "40/40 [==============================] - 1s 20ms/step - loss: 0.0463 - accuracy: 0.9863 - val_loss: 0.0220 - val_accuracy: 0.9980\n",
      "Epoch 13/1000\n",
      "40/40 [==============================] - 1s 20ms/step - loss: 0.0527 - accuracy: 0.9843 - val_loss: 0.0218 - val_accuracy: 0.9980\n",
      "Epoch 14/1000\n",
      "40/40 [==============================] - 1s 21ms/step - loss: 0.0458 - accuracy: 0.9862 - val_loss: 0.0232 - val_accuracy: 0.9979\n",
      "Epoch 15/1000\n",
      "40/40 [==============================] - 1s 21ms/step - loss: 0.0477 - accuracy: 0.9862 - val_loss: 0.0198 - val_accuracy: 0.9979\n",
      "Epoch 16/1000\n",
      "40/40 [==============================] - 1s 22ms/step - loss: 0.0467 - accuracy: 0.9861 - val_loss: 0.0198 - val_accuracy: 0.9980\n",
      "Epoch 17/1000\n",
      "40/40 [==============================] - 1s 22ms/step - loss: 0.0495 - accuracy: 0.9852 - val_loss: 0.0191 - val_accuracy: 0.9979\n",
      "Epoch 18/1000\n",
      "40/40 [==============================] - 1s 20ms/step - loss: 0.0507 - accuracy: 0.9855 - val_loss: 0.0183 - val_accuracy: 0.9979\n",
      "Epoch 19/1000\n",
      "40/40 [==============================] - 1s 19ms/step - loss: 0.0470 - accuracy: 0.9868 - val_loss: 0.0182 - val_accuracy: 0.9982\n",
      "Epoch 20/1000\n",
      "40/40 [==============================] - 1s 22ms/step - loss: 0.0468 - accuracy: 0.9857 - val_loss: 0.0183 - val_accuracy: 0.9982\n",
      "Epoch 21/1000\n",
      "40/40 [==============================] - 1s 22ms/step - loss: 0.0472 - accuracy: 0.9860 - val_loss: 0.0176 - val_accuracy: 0.9982\n",
      "Epoch 22/1000\n",
      "40/40 [==============================] - 1s 21ms/step - loss: 0.0470 - accuracy: 0.9864 - val_loss: 0.0182 - val_accuracy: 0.9982\n",
      "Epoch 23/1000\n",
      "40/40 [==============================] - 1s 22ms/step - loss: 0.0471 - accuracy: 0.9861 - val_loss: 0.0181 - val_accuracy: 0.9982\n",
      "Epoch 24/1000\n",
      "40/40 [==============================] - 1s 21ms/step - loss: 0.0489 - accuracy: 0.9856 - val_loss: 0.0187 - val_accuracy: 0.9980\n",
      "Epoch 25/1000\n",
      "40/40 [==============================] - 1s 21ms/step - loss: 0.0452 - accuracy: 0.9863 - val_loss: 0.0169 - val_accuracy: 0.9981\n",
      "Epoch 26/1000\n",
      "34/40 [========================>.....] - ETA: 0s - loss: 0.0497 - accuracy: 0.9857"
     ]
    },
    {
     "ename": "KeyboardInterrupt",
     "evalue": "",
     "output_type": "error",
     "traceback": [
      "\u001b[0;31m---------------------------------------------------------------------------\u001b[0m",
      "\u001b[0;31mKeyboardInterrupt\u001b[0m                         Traceback (most recent call last)",
      "Cell \u001b[0;32mIn[13], line 5\u001b[0m\n\u001b[1;32m      1\u001b[0m \u001b[38;5;66;03m# fitting the model with the train data and validation with the validation data\u001b[39;00m\n\u001b[1;32m      2\u001b[0m \u001b[38;5;66;03m# we used early stop with patience 100 because we did not want to use early stop\u001b[39;00m\n\u001b[1;32m      3\u001b[0m \u001b[38;5;66;03m# I leave the early stop regularization code in case anyone wants to use it\u001b[39;00m\n\u001b[0;32m----> 5\u001b[0m history \u001b[38;5;241m=\u001b[39m \u001b[43mmodel\u001b[49m\u001b[38;5;241;43m.\u001b[39;49m\u001b[43mfit\u001b[49m\u001b[43m(\u001b[49m\u001b[43mX_train\u001b[49m\u001b[43m,\u001b[49m\u001b[43m \u001b[49m\u001b[43my_train\u001b[49m\u001b[43m,\u001b[49m\u001b[43m \u001b[49m\u001b[43mbatch_size\u001b[49m\u001b[38;5;241;43m=\u001b[39;49m\u001b[38;5;241;43m1024\u001b[39;49m\u001b[43m,\u001b[49m\u001b[43m \u001b[49m\u001b[43mepochs\u001b[49m\u001b[38;5;241;43m=\u001b[39;49m\u001b[38;5;241;43m1000\u001b[39;49m\u001b[43m,\u001b[49m\u001b[43m \u001b[49m\n\u001b[1;32m      6\u001b[0m \u001b[43m                    \u001b[49m\u001b[43mvalidation_data\u001b[49m\u001b[38;5;241;43m=\u001b[39;49m\u001b[43m(\u001b[49m\u001b[43mX_val\u001b[49m\u001b[43m,\u001b[49m\u001b[43m \u001b[49m\u001b[43my_val\u001b[49m\u001b[43m)\u001b[49m\u001b[43m,\u001b[49m\n\u001b[1;32m      7\u001b[0m \u001b[43m                    \u001b[49m\u001b[43mcallbacks\u001b[49m\u001b[38;5;241;43m=\u001b[39;49m\u001b[43m[\u001b[49m\u001b[43mearly_stop\u001b[49m\u001b[43m]\u001b[49m\u001b[43m)\u001b[49m\n",
      "File \u001b[0;32m~/Documents/Python/Project/Project Parts/temp/lib64/python3.8/site-packages/keras/utils/traceback_utils.py:65\u001b[0m, in \u001b[0;36mfilter_traceback.<locals>.error_handler\u001b[0;34m(*args, **kwargs)\u001b[0m\n\u001b[1;32m     63\u001b[0m filtered_tb \u001b[38;5;241m=\u001b[39m \u001b[38;5;28;01mNone\u001b[39;00m\n\u001b[1;32m     64\u001b[0m \u001b[38;5;28;01mtry\u001b[39;00m:\n\u001b[0;32m---> 65\u001b[0m     \u001b[38;5;28;01mreturn\u001b[39;00m \u001b[43mfn\u001b[49m\u001b[43m(\u001b[49m\u001b[38;5;241;43m*\u001b[39;49m\u001b[43margs\u001b[49m\u001b[43m,\u001b[49m\u001b[43m \u001b[49m\u001b[38;5;241;43m*\u001b[39;49m\u001b[38;5;241;43m*\u001b[39;49m\u001b[43mkwargs\u001b[49m\u001b[43m)\u001b[49m\n\u001b[1;32m     66\u001b[0m \u001b[38;5;28;01mexcept\u001b[39;00m \u001b[38;5;167;01mException\u001b[39;00m \u001b[38;5;28;01mas\u001b[39;00m e:\n\u001b[1;32m     67\u001b[0m     filtered_tb \u001b[38;5;241m=\u001b[39m _process_traceback_frames(e\u001b[38;5;241m.\u001b[39m__traceback__)\n",
      "File \u001b[0;32m~/Documents/Python/Project/Project Parts/temp/lib64/python3.8/site-packages/keras/engine/training.py:1729\u001b[0m, in \u001b[0;36mModel.fit\u001b[0;34m(self, x, y, batch_size, epochs, verbose, callbacks, validation_split, validation_data, shuffle, class_weight, sample_weight, initial_epoch, steps_per_epoch, validation_steps, validation_batch_size, validation_freq, max_queue_size, workers, use_multiprocessing)\u001b[0m\n\u001b[1;32m   1714\u001b[0m \u001b[38;5;28;01mif\u001b[39;00m \u001b[38;5;28mgetattr\u001b[39m(\u001b[38;5;28mself\u001b[39m, \u001b[38;5;124m\"\u001b[39m\u001b[38;5;124m_eval_data_handler\u001b[39m\u001b[38;5;124m\"\u001b[39m, \u001b[38;5;28;01mNone\u001b[39;00m) \u001b[38;5;129;01mis\u001b[39;00m \u001b[38;5;28;01mNone\u001b[39;00m:\n\u001b[1;32m   1715\u001b[0m     \u001b[38;5;28mself\u001b[39m\u001b[38;5;241m.\u001b[39m_eval_data_handler \u001b[38;5;241m=\u001b[39m data_adapter\u001b[38;5;241m.\u001b[39mget_data_handler(\n\u001b[1;32m   1716\u001b[0m         x\u001b[38;5;241m=\u001b[39mval_x,\n\u001b[1;32m   1717\u001b[0m         y\u001b[38;5;241m=\u001b[39mval_y,\n\u001b[0;32m   (...)\u001b[0m\n\u001b[1;32m   1727\u001b[0m         steps_per_execution\u001b[38;5;241m=\u001b[39m\u001b[38;5;28mself\u001b[39m\u001b[38;5;241m.\u001b[39m_steps_per_execution,\n\u001b[1;32m   1728\u001b[0m     )\n\u001b[0;32m-> 1729\u001b[0m val_logs \u001b[38;5;241m=\u001b[39m \u001b[38;5;28;43mself\u001b[39;49m\u001b[38;5;241;43m.\u001b[39;49m\u001b[43mevaluate\u001b[49m\u001b[43m(\u001b[49m\n\u001b[1;32m   1730\u001b[0m \u001b[43m    \u001b[49m\u001b[43mx\u001b[49m\u001b[38;5;241;43m=\u001b[39;49m\u001b[43mval_x\u001b[49m\u001b[43m,\u001b[49m\n\u001b[1;32m   1731\u001b[0m \u001b[43m    \u001b[49m\u001b[43my\u001b[49m\u001b[38;5;241;43m=\u001b[39;49m\u001b[43mval_y\u001b[49m\u001b[43m,\u001b[49m\n\u001b[1;32m   1732\u001b[0m \u001b[43m    \u001b[49m\u001b[43msample_weight\u001b[49m\u001b[38;5;241;43m=\u001b[39;49m\u001b[43mval_sample_weight\u001b[49m\u001b[43m,\u001b[49m\n\u001b[1;32m   1733\u001b[0m \u001b[43m    \u001b[49m\u001b[43mbatch_size\u001b[49m\u001b[38;5;241;43m=\u001b[39;49m\u001b[43mvalidation_batch_size\u001b[49m\u001b[43m \u001b[49m\u001b[38;5;129;43;01mor\u001b[39;49;00m\u001b[43m \u001b[49m\u001b[43mbatch_size\u001b[49m\u001b[43m,\u001b[49m\n\u001b[1;32m   1734\u001b[0m \u001b[43m    \u001b[49m\u001b[43msteps\u001b[49m\u001b[38;5;241;43m=\u001b[39;49m\u001b[43mvalidation_steps\u001b[49m\u001b[43m,\u001b[49m\n\u001b[1;32m   1735\u001b[0m \u001b[43m    \u001b[49m\u001b[43mcallbacks\u001b[49m\u001b[38;5;241;43m=\u001b[39;49m\u001b[43mcallbacks\u001b[49m\u001b[43m,\u001b[49m\n\u001b[1;32m   1736\u001b[0m \u001b[43m    \u001b[49m\u001b[43mmax_queue_size\u001b[49m\u001b[38;5;241;43m=\u001b[39;49m\u001b[43mmax_queue_size\u001b[49m\u001b[43m,\u001b[49m\n\u001b[1;32m   1737\u001b[0m \u001b[43m    \u001b[49m\u001b[43mworkers\u001b[49m\u001b[38;5;241;43m=\u001b[39;49m\u001b[43mworkers\u001b[49m\u001b[43m,\u001b[49m\n\u001b[1;32m   1738\u001b[0m \u001b[43m    \u001b[49m\u001b[43muse_multiprocessing\u001b[49m\u001b[38;5;241;43m=\u001b[39;49m\u001b[43muse_multiprocessing\u001b[49m\u001b[43m,\u001b[49m\n\u001b[1;32m   1739\u001b[0m \u001b[43m    \u001b[49m\u001b[43mreturn_dict\u001b[49m\u001b[38;5;241;43m=\u001b[39;49m\u001b[38;5;28;43;01mTrue\u001b[39;49;00m\u001b[43m,\u001b[49m\n\u001b[1;32m   1740\u001b[0m \u001b[43m    \u001b[49m\u001b[43m_use_cached_eval_dataset\u001b[49m\u001b[38;5;241;43m=\u001b[39;49m\u001b[38;5;28;43;01mTrue\u001b[39;49;00m\u001b[43m,\u001b[49m\n\u001b[1;32m   1741\u001b[0m \u001b[43m\u001b[49m\u001b[43m)\u001b[49m\n\u001b[1;32m   1742\u001b[0m val_logs \u001b[38;5;241m=\u001b[39m {\n\u001b[1;32m   1743\u001b[0m     \u001b[38;5;124m\"\u001b[39m\u001b[38;5;124mval_\u001b[39m\u001b[38;5;124m\"\u001b[39m \u001b[38;5;241m+\u001b[39m name: val \u001b[38;5;28;01mfor\u001b[39;00m name, val \u001b[38;5;129;01min\u001b[39;00m val_logs\u001b[38;5;241m.\u001b[39mitems()\n\u001b[1;32m   1744\u001b[0m }\n\u001b[1;32m   1745\u001b[0m epoch_logs\u001b[38;5;241m.\u001b[39mupdate(val_logs)\n",
      "File \u001b[0;32m~/Documents/Python/Project/Project Parts/temp/lib64/python3.8/site-packages/keras/utils/traceback_utils.py:65\u001b[0m, in \u001b[0;36mfilter_traceback.<locals>.error_handler\u001b[0;34m(*args, **kwargs)\u001b[0m\n\u001b[1;32m     63\u001b[0m filtered_tb \u001b[38;5;241m=\u001b[39m \u001b[38;5;28;01mNone\u001b[39;00m\n\u001b[1;32m     64\u001b[0m \u001b[38;5;28;01mtry\u001b[39;00m:\n\u001b[0;32m---> 65\u001b[0m     \u001b[38;5;28;01mreturn\u001b[39;00m \u001b[43mfn\u001b[49m\u001b[43m(\u001b[49m\u001b[38;5;241;43m*\u001b[39;49m\u001b[43margs\u001b[49m\u001b[43m,\u001b[49m\u001b[43m \u001b[49m\u001b[38;5;241;43m*\u001b[39;49m\u001b[38;5;241;43m*\u001b[39;49m\u001b[43mkwargs\u001b[49m\u001b[43m)\u001b[49m\n\u001b[1;32m     66\u001b[0m \u001b[38;5;28;01mexcept\u001b[39;00m \u001b[38;5;167;01mException\u001b[39;00m \u001b[38;5;28;01mas\u001b[39;00m e:\n\u001b[1;32m     67\u001b[0m     filtered_tb \u001b[38;5;241m=\u001b[39m _process_traceback_frames(e\u001b[38;5;241m.\u001b[39m__traceback__)\n",
      "File \u001b[0;32m~/Documents/Python/Project/Project Parts/temp/lib64/python3.8/site-packages/keras/engine/training.py:2072\u001b[0m, in \u001b[0;36mModel.evaluate\u001b[0;34m(self, x, y, batch_size, verbose, sample_weight, steps, callbacks, max_queue_size, workers, use_multiprocessing, return_dict, **kwargs)\u001b[0m\n\u001b[1;32m   2068\u001b[0m \u001b[38;5;28;01mwith\u001b[39;00m tf\u001b[38;5;241m.\u001b[39mprofiler\u001b[38;5;241m.\u001b[39mexperimental\u001b[38;5;241m.\u001b[39mTrace(\n\u001b[1;32m   2069\u001b[0m     \u001b[38;5;124m\"\u001b[39m\u001b[38;5;124mtest\u001b[39m\u001b[38;5;124m\"\u001b[39m, step_num\u001b[38;5;241m=\u001b[39mstep, _r\u001b[38;5;241m=\u001b[39m\u001b[38;5;241m1\u001b[39m\n\u001b[1;32m   2070\u001b[0m ):\n\u001b[1;32m   2071\u001b[0m     callbacks\u001b[38;5;241m.\u001b[39mon_test_batch_begin(step)\n\u001b[0;32m-> 2072\u001b[0m     tmp_logs \u001b[38;5;241m=\u001b[39m \u001b[38;5;28;43mself\u001b[39;49m\u001b[38;5;241;43m.\u001b[39;49m\u001b[43mtest_function\u001b[49m\u001b[43m(\u001b[49m\u001b[43miterator\u001b[49m\u001b[43m)\u001b[49m\n\u001b[1;32m   2073\u001b[0m     \u001b[38;5;28;01mif\u001b[39;00m data_handler\u001b[38;5;241m.\u001b[39mshould_sync:\n\u001b[1;32m   2074\u001b[0m         context\u001b[38;5;241m.\u001b[39masync_wait()\n",
      "File \u001b[0;32m~/Documents/Python/Project/Project Parts/temp/lib64/python3.8/site-packages/tensorflow/python/util/traceback_utils.py:150\u001b[0m, in \u001b[0;36mfilter_traceback.<locals>.error_handler\u001b[0;34m(*args, **kwargs)\u001b[0m\n\u001b[1;32m    148\u001b[0m filtered_tb \u001b[38;5;241m=\u001b[39m \u001b[38;5;28;01mNone\u001b[39;00m\n\u001b[1;32m    149\u001b[0m \u001b[38;5;28;01mtry\u001b[39;00m:\n\u001b[0;32m--> 150\u001b[0m   \u001b[38;5;28;01mreturn\u001b[39;00m \u001b[43mfn\u001b[49m\u001b[43m(\u001b[49m\u001b[38;5;241;43m*\u001b[39;49m\u001b[43margs\u001b[49m\u001b[43m,\u001b[49m\u001b[43m \u001b[49m\u001b[38;5;241;43m*\u001b[39;49m\u001b[38;5;241;43m*\u001b[39;49m\u001b[43mkwargs\u001b[49m\u001b[43m)\u001b[49m\n\u001b[1;32m    151\u001b[0m \u001b[38;5;28;01mexcept\u001b[39;00m \u001b[38;5;167;01mException\u001b[39;00m \u001b[38;5;28;01mas\u001b[39;00m e:\n\u001b[1;32m    152\u001b[0m   filtered_tb \u001b[38;5;241m=\u001b[39m _process_traceback_frames(e\u001b[38;5;241m.\u001b[39m__traceback__)\n",
      "File \u001b[0;32m~/Documents/Python/Project/Project Parts/temp/lib64/python3.8/site-packages/tensorflow/python/eager/polymorphic_function/polymorphic_function.py:894\u001b[0m, in \u001b[0;36mFunction.__call__\u001b[0;34m(self, *args, **kwds)\u001b[0m\n\u001b[1;32m    891\u001b[0m compiler \u001b[38;5;241m=\u001b[39m \u001b[38;5;124m\"\u001b[39m\u001b[38;5;124mxla\u001b[39m\u001b[38;5;124m\"\u001b[39m \u001b[38;5;28;01mif\u001b[39;00m \u001b[38;5;28mself\u001b[39m\u001b[38;5;241m.\u001b[39m_jit_compile \u001b[38;5;28;01melse\u001b[39;00m \u001b[38;5;124m\"\u001b[39m\u001b[38;5;124mnonXla\u001b[39m\u001b[38;5;124m\"\u001b[39m\n\u001b[1;32m    893\u001b[0m \u001b[38;5;28;01mwith\u001b[39;00m OptionalXlaContext(\u001b[38;5;28mself\u001b[39m\u001b[38;5;241m.\u001b[39m_jit_compile):\n\u001b[0;32m--> 894\u001b[0m   result \u001b[38;5;241m=\u001b[39m \u001b[38;5;28;43mself\u001b[39;49m\u001b[38;5;241;43m.\u001b[39;49m\u001b[43m_call\u001b[49m\u001b[43m(\u001b[49m\u001b[38;5;241;43m*\u001b[39;49m\u001b[43margs\u001b[49m\u001b[43m,\u001b[49m\u001b[43m \u001b[49m\u001b[38;5;241;43m*\u001b[39;49m\u001b[38;5;241;43m*\u001b[39;49m\u001b[43mkwds\u001b[49m\u001b[43m)\u001b[49m\n\u001b[1;32m    896\u001b[0m new_tracing_count \u001b[38;5;241m=\u001b[39m \u001b[38;5;28mself\u001b[39m\u001b[38;5;241m.\u001b[39mexperimental_get_tracing_count()\n\u001b[1;32m    897\u001b[0m without_tracing \u001b[38;5;241m=\u001b[39m (tracing_count \u001b[38;5;241m==\u001b[39m new_tracing_count)\n",
      "File \u001b[0;32m~/Documents/Python/Project/Project Parts/temp/lib64/python3.8/site-packages/tensorflow/python/eager/polymorphic_function/polymorphic_function.py:933\u001b[0m, in \u001b[0;36mFunction._call\u001b[0;34m(self, *args, **kwds)\u001b[0m\n\u001b[1;32m    930\u001b[0m \u001b[38;5;28mself\u001b[39m\u001b[38;5;241m.\u001b[39m_lock\u001b[38;5;241m.\u001b[39mrelease()\n\u001b[1;32m    931\u001b[0m \u001b[38;5;66;03m# In this case we have not created variables on the first call. So we can\u001b[39;00m\n\u001b[1;32m    932\u001b[0m \u001b[38;5;66;03m# run the first trace but we should fail if variables are created.\u001b[39;00m\n\u001b[0;32m--> 933\u001b[0m results \u001b[38;5;241m=\u001b[39m \u001b[38;5;28;43mself\u001b[39;49m\u001b[38;5;241;43m.\u001b[39;49m\u001b[43m_variable_creation_fn\u001b[49m\u001b[43m(\u001b[49m\u001b[38;5;241;43m*\u001b[39;49m\u001b[43margs\u001b[49m\u001b[43m,\u001b[49m\u001b[43m \u001b[49m\u001b[38;5;241;43m*\u001b[39;49m\u001b[38;5;241;43m*\u001b[39;49m\u001b[43mkwds\u001b[49m\u001b[43m)\u001b[49m\n\u001b[1;32m    934\u001b[0m \u001b[38;5;28;01mif\u001b[39;00m \u001b[38;5;28mself\u001b[39m\u001b[38;5;241m.\u001b[39m_created_variables \u001b[38;5;129;01mand\u001b[39;00m \u001b[38;5;129;01mnot\u001b[39;00m ALLOW_DYNAMIC_VARIABLE_CREATION:\n\u001b[1;32m    935\u001b[0m   \u001b[38;5;28;01mraise\u001b[39;00m \u001b[38;5;167;01mValueError\u001b[39;00m(\u001b[38;5;124m\"\u001b[39m\u001b[38;5;124mCreating variables on a non-first call to a function\u001b[39m\u001b[38;5;124m\"\u001b[39m\n\u001b[1;32m    936\u001b[0m                    \u001b[38;5;124m\"\u001b[39m\u001b[38;5;124m decorated with tf.function.\u001b[39m\u001b[38;5;124m\"\u001b[39m)\n",
      "File \u001b[0;32m~/Documents/Python/Project/Project Parts/temp/lib64/python3.8/site-packages/tensorflow/python/eager/polymorphic_function/tracing_compiler.py:140\u001b[0m, in \u001b[0;36mTracingCompiler.__call__\u001b[0;34m(self, *args, **kwargs)\u001b[0m\n\u001b[1;32m    138\u001b[0m \u001b[38;5;28;01mdef\u001b[39;00m \u001b[38;5;21m__call__\u001b[39m(\u001b[38;5;28mself\u001b[39m, \u001b[38;5;241m*\u001b[39margs, \u001b[38;5;241m*\u001b[39m\u001b[38;5;241m*\u001b[39mkwargs):\n\u001b[1;32m    139\u001b[0m \u001b[38;5;250m  \u001b[39m\u001b[38;5;124;03m\"\"\"Calls a graph function specialized to the inputs.\"\"\"\u001b[39;00m\n\u001b[0;32m--> 140\u001b[0m   \u001b[38;5;28;01mwith\u001b[39;00m \u001b[38;5;28mself\u001b[39m\u001b[38;5;241m.\u001b[39m_lock:\n\u001b[1;32m    141\u001b[0m     (concrete_function,\n\u001b[1;32m    142\u001b[0m      filtered_flat_args) \u001b[38;5;241m=\u001b[39m \u001b[38;5;28mself\u001b[39m\u001b[38;5;241m.\u001b[39m_maybe_define_function(args, kwargs)\n\u001b[1;32m    143\u001b[0m   \u001b[38;5;28;01mreturn\u001b[39;00m concrete_function\u001b[38;5;241m.\u001b[39m_call_flat(\n\u001b[1;32m    144\u001b[0m       filtered_flat_args, captured_inputs\u001b[38;5;241m=\u001b[39mconcrete_function\u001b[38;5;241m.\u001b[39mcaptured_inputs)\n",
      "\u001b[0;31mKeyboardInterrupt\u001b[0m: "
     ]
    }
   ],
   "source": [
    "# fitting the model with the train data and validation with the validation data\n",
    "# we used early stop with patience 100 because we did not want to use early stop\n",
    "# I leave the early stop regularization code in case anyone wants to use it\n",
    "\n",
    "history = model.fit(X_train, y_train, batch_size=1024, epochs=1000, \n",
    "                    validation_data=(X_val, y_val),\n",
    "                    callbacks=[early_stop])\n",
    "                    "
   ]
  },
  {
   "cell_type": "code",
   "execution_count": 52,
   "metadata": {},
   "outputs": [
    {
     "data": {
      "image/png": "[encoded data removed]",
      "text/plain": [
       "<Figure size 1200x800 with 1 Axes>"
      ]
     },
     "metadata": {},
     "output_type": "display_data"
    }
   ],
   "source": [
    "import matplotlib\n",
    "import matplotlib.pyplot as plt\n",
    "# Check out our train accuracy and validation accuracy over epochs.\n",
    "train_accuracy = history.history['accuracy']\n",
    "val_accuracy = history.history['val_accuracy']\n",
    "\n",
    "# Set figure size.\n",
    "plt.figure(figsize=(12, 8))\n",
    "\n",
    "# Generate line plot of training, testing loss over epochs.\n",
    "plt.plot(train_accuracy, label='Training Accuracy', color='#185fad')\n",
    "plt.plot(val_accuracy, label='Validation Accuracy', color='orange')\n",
    "\n",
    "# Set title\n",
    "plt.title('Training and Validation Accuracy by Epoch', fontsize = 25)\n",
    "plt.xlabel('Epoch', fontsize = 18)\n",
    "plt.ylabel('Categorical Crossentropy', fontsize = 18)\n",
    "plt.xticks(range(0,200,10), range(0,200,10))\n",
    "\n",
    "plt.legend(fontsize = 18);"
   ]
  },
  {
   "cell_type": "code",
   "execution_count": 6,
   "metadata": {},
   "outputs": [
    {
     "name": "stdout",
     "output_type": "stream",
     "text": [
      "179/179 [==============================] - 0s 2ms/step\n"
     ]
    }
   ],
   "source": [
    "# We get our predictions from the test data\n",
    "predict_x=model.predict(X_test) \n",
    "preds=np.argmax(predict_x,axis=1)"
   ]
  },
  {
   "cell_type": "code",
   "execution_count": 8,
   "metadata": {},
   "outputs": [
    {
     "data": {
      "text/plain": [
       "127"
      ]
     },
     "execution_count": 8,
     "metadata": {},
     "output_type": "execute_result"
    }
   ],
   "source": [
    "preds[2]"
   ]
  },
  {
   "cell_type": "code",
   "execution_count": 9,
   "metadata": {},
   "outputs": [
    {
     "data": {
      "text/plain": [
       "array([[0., 0., 0., ..., 0., 0., 0.],\n",
       "       [0., 0., 0., ..., 0., 0., 0.],\n",
       "       [0., 0., 0., ..., 0., 0., 0.],\n",
       "       ...,\n",
       "       [0., 0., 0., ..., 0., 0., 0.],\n",
       "       [0., 0., 0., ..., 0., 0., 0.],\n",
       "       [0., 0., 0., ..., 0., 0., 0.]], dtype=float32)"
      ]
     },
     "execution_count": 9,
     "metadata": {},
     "output_type": "execute_result"
    }
   ],
   "source": [
    "y_test"
   ]
  },
  {
   "cell_type": "code",
   "execution_count": 10,
   "metadata": {},
   "outputs": [],
   "source": [
    "# We transform back our predictions to the speakers ids\n",
    "preds = lb.inverse_transform(preds)"
   ]
  },
  {
   "cell_type": "code",
   "execution_count": 12,
   "metadata": {},
   "outputs": [
    {
     "data": {
      "text/plain": [
       "array(['7113', '6181', '441', ..., '201', '8747', '6476'], dtype='<U4')"
      ]
     },
     "execution_count": 12,
     "metadata": {},
     "output_type": "execute_result"
    }
   ],
   "source": [
    "preds"
   ]
  },
  {
   "cell_type": "code",
   "execution_count": 13,
   "metadata": {},
   "outputs": [],
   "source": [
    "# We slice our dataframe to our test dataframe\n",
    "df_test = df[trainSize+validationSize:]"
   ]
  },
  {
   "cell_type": "code",
   "execution_count": 14,
   "metadata": {},
   "outputs": [
    {
     "name": "stderr",
     "output_type": "stream",
     "text": [
      "/tmp/ipykernel_40327/593711799.py:2: SettingWithCopyWarning: \n",
      "A value is trying to be set on a copy of a slice from a DataFrame.\n",
      "Try using .loc[row_indexer,col_indexer] = value instead\n",
      "\n",
      "See the caveats in the documentation: https://pandas.pydata.org/pandas-docs/stable/user_guide/indexing.html#returning-a-view-versus-a-copy\n",
      "  df_test['preds'] = preds\n"
     ]
    }
   ],
   "source": [
    "# We create a new column called preds and set it equal to our predictions\n",
    "df_test['preds'] = preds"
   ]
  },
  {
   "cell_type": "code",
   "execution_count": 15,
   "metadata": {},
   "outputs": [
    {
     "data": {
      "text/html": [
       "<div>\n",
       "<style scoped>\n",
       "    .dataframe tbody tr th:only-of-type {\n",
       "        vertical-align: middle;\n",
       "    }\n",
       "\n",
       "    .dataframe tbody tr th {\n",
       "        vertical-align: top;\n",
       "    }\n",
       "\n",
       "    .dataframe thead th {\n",
       "        text-align: right;\n",
       "    }\n",
       "</style>\n",
       "<table border=\"1\" class=\"dataframe\">\n",
       "  <thead>\n",
       "    <tr style=\"text-align: right;\">\n",
       "      <th></th>\n",
       "      <th>file</th>\n",
       "      <th>label</th>\n",
       "      <th>speaker</th>\n",
       "      <th>preds</th>\n",
       "    </tr>\n",
       "  </thead>\n",
       "  <tbody>\n",
       "    <tr>\n",
       "      <th>51368</th>\n",
       "      <td>7113-86041-0068.flac</td>\n",
       "      <td>0</td>\n",
       "      <td>7113</td>\n",
       "      <td>7113</td>\n",
       "    </tr>\n",
       "    <tr>\n",
       "      <th>51369</th>\n",
       "      <td>6181-216552-0026.flac</td>\n",
       "      <td>1</td>\n",
       "      <td>6181</td>\n",
       "      <td>6181</td>\n",
       "    </tr>\n",
       "    <tr>\n",
       "      <th>51370</th>\n",
       "      <td>441-128988-0012.flac</td>\n",
       "      <td>0</td>\n",
       "      <td>441</td>\n",
       "      <td>441</td>\n",
       "    </tr>\n",
       "    <tr>\n",
       "      <th>51371</th>\n",
       "      <td>8838-298546-0004.flac</td>\n",
       "      <td>1</td>\n",
       "      <td>8838</td>\n",
       "      <td>8838</td>\n",
       "    </tr>\n",
       "    <tr>\n",
       "      <th>51372</th>\n",
       "      <td>7067-76048-0000.flac</td>\n",
       "      <td>1</td>\n",
       "      <td>7067</td>\n",
       "      <td>7067</td>\n",
       "    </tr>\n",
       "    <tr>\n",
       "      <th>...</th>\n",
       "      <td>...</td>\n",
       "      <td>...</td>\n",
       "      <td>...</td>\n",
       "      <td>...</td>\n",
       "    </tr>\n",
       "    <tr>\n",
       "      <th>57071</th>\n",
       "      <td>403-216-0008.flac</td>\n",
       "      <td>0</td>\n",
       "      <td>403</td>\n",
       "      <td>403</td>\n",
       "    </tr>\n",
       "    <tr>\n",
       "      <th>57072</th>\n",
       "      <td>3440-171009-0053.flac</td>\n",
       "      <td>0</td>\n",
       "      <td>3440</td>\n",
       "      <td>3440</td>\n",
       "    </tr>\n",
       "    <tr>\n",
       "      <th>57073</th>\n",
       "      <td>201-127786-0009.flac</td>\n",
       "      <td>1</td>\n",
       "      <td>201</td>\n",
       "      <td>201</td>\n",
       "    </tr>\n",
       "    <tr>\n",
       "      <th>57074</th>\n",
       "      <td>8747-293952-0062.flac</td>\n",
       "      <td>1</td>\n",
       "      <td>8747</td>\n",
       "      <td>8747</td>\n",
       "    </tr>\n",
       "    <tr>\n",
       "      <th>57075</th>\n",
       "      <td>6476-96661-0005.flac</td>\n",
       "      <td>0</td>\n",
       "      <td>6476</td>\n",
       "      <td>6476</td>\n",
       "    </tr>\n",
       "  </tbody>\n",
       "</table>\n",
       "<p>5708 rows × 4 columns</p>\n",
       "</div>"
      ],
      "text/plain": [
       "                        file label speaker preds\n",
       "51368   7113-86041-0068.flac     0    7113  7113\n",
       "51369  6181-216552-0026.flac     1    6181  6181\n",
       "51370   441-128988-0012.flac     0     441   441\n",
       "51371  8838-298546-0004.flac     1    8838  8838\n",
       "51372   7067-76048-0000.flac     1    7067  7067\n",
       "...                      ...   ...     ...   ...\n",
       "57071      403-216-0008.flac     0     403   403\n",
       "57072  3440-171009-0053.flac     0    3440  3440\n",
       "57073   201-127786-0009.flac     1     201   201\n",
       "57074  8747-293952-0062.flac     1    8747  8747\n",
       "57075   6476-96661-0005.flac     0    6476  6476\n",
       "\n",
       "[5708 rows x 4 columns]"
      ]
     },
     "execution_count": 15,
     "metadata": {},
     "output_type": "execute_result"
    }
   ],
   "source": [
    "# Checking how our test dataframe looks like now with our predictions\n",
    "df_test"
   ]
  },
  {
   "cell_type": "code",
   "execution_count": 16,
   "metadata": {},
   "outputs": [
    {
     "data": {
      "text/html": [
       "<div>\n",
       "<style scoped>\n",
       "    .dataframe tbody tr th:only-of-type {\n",
       "        vertical-align: middle;\n",
       "    }\n",
       "\n",
       "    .dataframe tbody tr th {\n",
       "        vertical-align: top;\n",
       "    }\n",
       "\n",
       "    .dataframe thead th {\n",
       "        text-align: right;\n",
       "    }\n",
       "</style>\n",
       "<table border=\"1\" class=\"dataframe\">\n",
       "  <thead>\n",
       "    <tr style=\"text-align: right;\">\n",
       "      <th></th>\n",
       "      <th>file</th>\n",
       "      <th>label</th>\n",
       "      <th>speaker</th>\n",
       "      <th>preds</th>\n",
       "    </tr>\n",
       "  </thead>\n",
       "  <tbody>\n",
       "    <tr>\n",
       "      <th>51874</th>\n",
       "      <td>2182-181173-0037.flac</td>\n",
       "      <td>0</td>\n",
       "      <td>2182</td>\n",
       "      <td>87</td>\n",
       "    </tr>\n",
       "    <tr>\n",
       "      <th>51991</th>\n",
       "      <td>8629-261139-0076.flac</td>\n",
       "      <td>1</td>\n",
       "      <td>8629</td>\n",
       "      <td>7226</td>\n",
       "    </tr>\n",
       "    <tr>\n",
       "      <th>52014</th>\n",
       "      <td>6147-34606-0000.flac</td>\n",
       "      <td>0</td>\n",
       "      <td>6147</td>\n",
       "      <td>19</td>\n",
       "    </tr>\n",
       "    <tr>\n",
       "      <th>52368</th>\n",
       "      <td>8629-261139-0076.flac</td>\n",
       "      <td>1</td>\n",
       "      <td>8629</td>\n",
       "      <td>7226</td>\n",
       "    </tr>\n",
       "    <tr>\n",
       "      <th>52959</th>\n",
       "      <td>5561-39621-0014.flac</td>\n",
       "      <td>0</td>\n",
       "      <td>5561</td>\n",
       "      <td>307</td>\n",
       "    </tr>\n",
       "    <tr>\n",
       "      <th>53533</th>\n",
       "      <td>5688-41232-0071.flac</td>\n",
       "      <td>0</td>\n",
       "      <td>5688</td>\n",
       "      <td>1183</td>\n",
       "    </tr>\n",
       "    <tr>\n",
       "      <th>53744</th>\n",
       "      <td>7367-86737-0061.flac</td>\n",
       "      <td>1</td>\n",
       "      <td>7367</td>\n",
       "      <td>8419</td>\n",
       "    </tr>\n",
       "    <tr>\n",
       "      <th>53757</th>\n",
       "      <td>89-219-0056.flac</td>\n",
       "      <td>0</td>\n",
       "      <td>89</td>\n",
       "      <td>7511</td>\n",
       "    </tr>\n",
       "    <tr>\n",
       "      <th>54493</th>\n",
       "      <td>5688-41232-0042.flac</td>\n",
       "      <td>0</td>\n",
       "      <td>5688</td>\n",
       "      <td>1183</td>\n",
       "    </tr>\n",
       "    <tr>\n",
       "      <th>55033</th>\n",
       "      <td>1737-142397-0014.flac</td>\n",
       "      <td>0</td>\n",
       "      <td>1737</td>\n",
       "      <td>125</td>\n",
       "    </tr>\n",
       "    <tr>\n",
       "      <th>55171</th>\n",
       "      <td>8629-261139-0076.flac</td>\n",
       "      <td>1</td>\n",
       "      <td>8629</td>\n",
       "      <td>7226</td>\n",
       "    </tr>\n",
       "    <tr>\n",
       "      <th>55547</th>\n",
       "      <td>8051-119902-0014.flac</td>\n",
       "      <td>0</td>\n",
       "      <td>8051</td>\n",
       "      <td>229</td>\n",
       "    </tr>\n",
       "    <tr>\n",
       "      <th>55566</th>\n",
       "      <td>8629-261139-0064.flac</td>\n",
       "      <td>1</td>\n",
       "      <td>8629</td>\n",
       "      <td>7113</td>\n",
       "    </tr>\n",
       "    <tr>\n",
       "      <th>55667</th>\n",
       "      <td>5688-41232-0028.flac</td>\n",
       "      <td>0</td>\n",
       "      <td>5688</td>\n",
       "      <td>1183</td>\n",
       "    </tr>\n",
       "    <tr>\n",
       "      <th>55881</th>\n",
       "      <td>5688-15787-0029.flac</td>\n",
       "      <td>0</td>\n",
       "      <td>5688</td>\n",
       "      <td>1183</td>\n",
       "    </tr>\n",
       "    <tr>\n",
       "      <th>56086</th>\n",
       "      <td>7635-105661-0014.flac</td>\n",
       "      <td>0</td>\n",
       "      <td>7635</td>\n",
       "      <td>4481</td>\n",
       "    </tr>\n",
       "    <tr>\n",
       "      <th>56496</th>\n",
       "      <td>2893-139310-0049.flac</td>\n",
       "      <td>1</td>\n",
       "      <td>2893</td>\n",
       "      <td>6064</td>\n",
       "    </tr>\n",
       "    <tr>\n",
       "      <th>56566</th>\n",
       "      <td>2910-131096-0055.flac</td>\n",
       "      <td>0</td>\n",
       "      <td>2910</td>\n",
       "      <td>1578</td>\n",
       "    </tr>\n",
       "  </tbody>\n",
       "</table>\n",
       "</div>"
      ],
      "text/plain": [
       "                        file label speaker preds\n",
       "51874  2182-181173-0037.flac     0    2182    87\n",
       "51991  8629-261139-0076.flac     1    8629  7226\n",
       "52014   6147-34606-0000.flac     0    6147    19\n",
       "52368  8629-261139-0076.flac     1    8629  7226\n",
       "52959   5561-39621-0014.flac     0    5561   307\n",
       "53533   5688-41232-0071.flac     0    5688  1183\n",
       "53744   7367-86737-0061.flac     1    7367  8419\n",
       "53757       89-219-0056.flac     0      89  7511\n",
       "54493   5688-41232-0042.flac     0    5688  1183\n",
       "55033  1737-142397-0014.flac     0    1737   125\n",
       "55171  8629-261139-0076.flac     1    8629  7226\n",
       "55547  8051-119902-0014.flac     0    8051   229\n",
       "55566  8629-261139-0064.flac     1    8629  7113\n",
       "55667   5688-41232-0028.flac     0    5688  1183\n",
       "55881   5688-15787-0029.flac     0    5688  1183\n",
       "56086  7635-105661-0014.flac     0    7635  4481\n",
       "56496  2893-139310-0049.flac     1    2893  6064\n",
       "56566  2910-131096-0055.flac     0    2910  1578"
      ]
     },
     "execution_count": 16,
     "metadata": {},
     "output_type": "execute_result"
    }
   ],
   "source": [
    "# Checking how many speakers we got wrong\n",
    "df_test[df_test['speaker'] != df_test['preds']]"
   ]
  },
  {
   "cell_type": "code",
   "execution_count": 17,
   "metadata": {},
   "outputs": [
    {
     "data": {
      "text/plain": [
       "0.99685"
      ]
     },
     "execution_count": 17,
     "metadata": {},
     "output_type": "execute_result"
    }
   ],
   "source": [
    "# Checking our model accuracy\n",
    "1-round(len(df_test[df_test['speaker'] != df_test['preds']])/len(df_test),5)"
   ]
  },
  {
   "cell_type": "markdown",
   "metadata": {},
   "source": [
    "#### 99.8% accurate on test data for classification of speakers"
   ]
  },
  {
   "cell_type": "code",
   "execution_count": 51,
   "metadata": {},
   "outputs": [
    {
     "name": "stderr",
     "output_type": "stream",
     "text": [
      "2023-06-12 05:34:50.315883: I tensorflow/core/common_runtime/executor.cc:1197] [/device:CPU:0] (DEBUG INFO) Executor start aborting (this does not indicate an error and you can ignore this message): INVALID_ARGUMENT: You must feed a value for placeholder tensor 'inputs' with dtype float and shape [?,194]\n",
      "\t [[{{node inputs}}]]\n",
      "2023-06-12 05:34:50.327078: I tensorflow/core/common_runtime/executor.cc:1197] [/device:CPU:0] (DEBUG INFO) Executor start aborting (this does not indicate an error and you can ignore this message): INVALID_ARGUMENT: You must feed a value for placeholder tensor 'inputs' with dtype float and shape [?,128]\n",
      "\t [[{{node inputs}}]]\n",
      "2023-06-12 05:34:50.339233: I tensorflow/core/common_runtime/executor.cc:1197] [/device:CPU:0] (DEBUG INFO) Executor start aborting (this does not indicate an error and you can ignore this message): INVALID_ARGUMENT: You must feed a value for placeholder tensor 'inputs' with dtype float and shape [?,128]\n",
      "\t [[{{node inputs}}]]\n",
      "2023-06-12 05:34:50.480185: I tensorflow/core/common_runtime/executor.cc:1197] [/device:CPU:0] (DEBUG INFO) Executor start aborting (this does not indicate an error and you can ignore this message): INVALID_ARGUMENT: You must feed a value for placeholder tensor 'inputs' with dtype float and shape [?,194]\n",
      "\t [[{{node inputs}}]]\n",
      "2023-06-12 05:34:50.504859: I tensorflow/core/common_runtime/executor.cc:1197] [/device:CPU:0] (DEBUG INFO) Executor start aborting (this does not indicate an error and you can ignore this message): INVALID_ARGUMENT: You must feed a value for placeholder tensor 'inputs' with dtype float and shape [?,128]\n",
      "\t [[{{node inputs}}]]\n",
      "2023-06-12 05:34:50.530697: I tensorflow/core/common_runtime/executor.cc:1197] [/device:CPU:0] (DEBUG INFO) Executor start aborting (this does not indicate an error and you can ignore this message): INVALID_ARGUMENT: You must feed a value for placeholder tensor 'inputs' with dtype float and shape [?,128]\n",
      "\t [[{{node inputs}}]]\n",
      "WARNING:absl:Found untraced functions such as _update_step_xla while saving (showing 1 of 1). These functions will not be directly callable after loading.\n"
     ]
    },
    {
     "name": "stdout",
     "output_type": "stream",
     "text": [
      "INFO:tensorflow:Assets written to: spktvrfiwithlabel/assets\n"
     ]
    },
    {
     "name": "stderr",
     "output_type": "stream",
     "text": [
      "INFO:tensorflow:Assets written to: spktvrfiwithlabel/assets\n"
     ]
    }
   ],
   "source": [
    "model.save(\"spktvrfiwithlabel\")"
   ]
  },
  {
   "cell_type": "code",
   "execution_count": 1,
   "metadata": {},
   "outputs": [],
   "source": [
    "import dill"
   ]
  },
  {
   "cell_type": "code",
   "execution_count": 2,
   "metadata": {
    "scrolled": true
   },
   "outputs": [
    {
     "name": "stderr",
     "output_type": "stream",
     "text": [
      "2023-06-15 03:02:47.284497: I tensorflow/tsl/cuda/cudart_stub.cc:28] Could not find cuda drivers on your machine, GPU will not be used.\n",
      "2023-06-15 03:02:47.346378: I tensorflow/tsl/cuda/cudart_stub.cc:28] Could not find cuda drivers on your machine, GPU will not be used.\n",
      "2023-06-15 03:02:47.346982: I tensorflow/core/platform/cpu_feature_guard.cc:182] This TensorFlow binary is optimized to use available CPU instructions in performance-critical operations.\n",
      "To enable the following instructions: AVX2 FMA, in other operations, rebuild TensorFlow with the appropriate compiler flags.\n",
      "2023-06-15 03:02:48.273168: W tensorflow/compiler/tf2tensorrt/utils/py_utils.cc:38] TF-TRT Warning: Could not find TensorRT\n",
      "2023-06-15 03:02:49.799688: I tensorflow/compiler/xla/stream_executor/cuda/cuda_gpu_executor.cc:996] successful NUMA node read from SysFS had negative value (-1), but there must be at least one NUMA node, so returning NUMA node zero. See more at https://github.com/torvalds/linux/blob/v6.0/Documentation/ABI/testing/sysfs-bus-pci#L344-L355\n",
      "2023-06-15 03:02:49.800470: W tensorflow/core/common_runtime/gpu/gpu_device.cc:1956] Cannot dlopen some GPU libraries. Please make sure the missing libraries mentioned above are installed properly if you would like to use GPU. Follow the guide at https://www.tensorflow.org/install/gpu for how to download and setup the required libraries for your platform.\n",
      "Skipping registering GPU devices...\n"
     ]
    }
   ],
   "source": [
    "dill.load_session('notebook_env.db')"
   ]
  },
  {
   "cell_type": "code",
   "execution_count": 23,
   "metadata": {},
   "outputs": [
    {
     "name": "stdout",
     "output_type": "stream",
     "text": [
      "90/90 [==============================] - 0s 3ms/step\n",
      "              precision    recall  f1-score   support\n",
      "\n",
      "           0       1.00      1.00      1.00        25\n",
      "           1       1.00      1.00      1.00        17\n",
      "           2       1.00      1.00      1.00        16\n",
      "           3       1.00      1.00      1.00        22\n",
      "           4       1.00      1.00      1.00        26\n",
      "           5       1.00      1.00      1.00        33\n",
      "           6       1.00      1.00      1.00        19\n",
      "           7       1.00      1.00      1.00        24\n",
      "           8       1.00      1.00      1.00        24\n",
      "           9       1.00      1.00      1.00        14\n",
      "          10       1.00      1.00      1.00        33\n",
      "          11       1.00      1.00      1.00        23\n",
      "          12       1.00      1.00      1.00        29\n",
      "          13       1.00      1.00      1.00        26\n",
      "          14       1.00      1.00      1.00        15\n",
      "          15       1.00      1.00      1.00        24\n",
      "          16       1.00      1.00      1.00        20\n",
      "          17       1.00      1.00      1.00        24\n",
      "          18       1.00      1.00      1.00        19\n",
      "          19       1.00      1.00      1.00        30\n",
      "          20       1.00      1.00      1.00        24\n",
      "          21       1.00      1.00      1.00        18\n",
      "          22       1.00      1.00      1.00        23\n",
      "          23       1.00      1.00      1.00        27\n",
      "          24       1.00      1.00      1.00        26\n",
      "          25       1.00      1.00      1.00        23\n",
      "          26       1.00      1.00      1.00        19\n",
      "          27       1.00      0.96      0.98        25\n",
      "          28       1.00      1.00      1.00        25\n",
      "          29       1.00      1.00      1.00        27\n",
      "          30       1.00      1.00      1.00        31\n",
      "          31       1.00      1.00      1.00        20\n",
      "          32       1.00      1.00      1.00        17\n",
      "          33       1.00      1.00      1.00        35\n",
      "          34       1.00      1.00      1.00        25\n",
      "          35       0.95      1.00      0.98        20\n",
      "          36       1.00      1.00      1.00        22\n",
      "          37       1.00      1.00      1.00        21\n",
      "          38       1.00      1.00      1.00        11\n",
      "          39       1.00      1.00      1.00        16\n",
      "          40       1.00      1.00      1.00        27\n",
      "          41       1.00      1.00      1.00        21\n",
      "          42       1.00      1.00      1.00        20\n",
      "          43       1.00      1.00      1.00        22\n",
      "          44       1.00      1.00      1.00        27\n",
      "          45       1.00      1.00      1.00        26\n",
      "          46       1.00      1.00      1.00        20\n",
      "          47       1.00      1.00      1.00        22\n",
      "          48       1.00      1.00      1.00        20\n",
      "          49       1.00      1.00      1.00        23\n",
      "          50       1.00      1.00      1.00        26\n",
      "          51       1.00      1.00      1.00        19\n",
      "          52       1.00      1.00      1.00        19\n",
      "          53       1.00      1.00      1.00        25\n",
      "          54       1.00      1.00      1.00        33\n",
      "          55       1.00      1.00      1.00        19\n",
      "          56       1.00      1.00      1.00        18\n",
      "          57       1.00      1.00      1.00        23\n",
      "          58       1.00      1.00      1.00        26\n",
      "          59       1.00      1.00      1.00        21\n",
      "          60       1.00      1.00      1.00        19\n",
      "          61       1.00      1.00      1.00        30\n",
      "          62       1.00      1.00      1.00        26\n",
      "          63       1.00      1.00      1.00        34\n",
      "          64       1.00      0.96      0.98        27\n",
      "          65       1.00      1.00      1.00        32\n",
      "          66       1.00      1.00      1.00        27\n",
      "          67       1.00      1.00      1.00        14\n",
      "          68       1.00      1.00      1.00        19\n",
      "          69       1.00      1.00      1.00        18\n",
      "          70       1.00      1.00      1.00        16\n",
      "          71       1.00      1.00      1.00        21\n",
      "          72       1.00      1.00      1.00        28\n",
      "          73       1.00      1.00      1.00        16\n",
      "          74       1.00      1.00      1.00        26\n",
      "          75       1.00      1.00      1.00        31\n",
      "          76       1.00      1.00      1.00        20\n",
      "          77       1.00      1.00      1.00        30\n",
      "          78       1.00      1.00      1.00        17\n",
      "          79       1.00      1.00      1.00        18\n",
      "          80       1.00      1.00      1.00        21\n",
      "          81       1.00      1.00      1.00        27\n",
      "          82       1.00      1.00      1.00        26\n",
      "          83       1.00      1.00      1.00        18\n",
      "          84       1.00      1.00      1.00        26\n",
      "          85       1.00      1.00      1.00        26\n",
      "          86       1.00      1.00      1.00        25\n",
      "          87       0.96      1.00      0.98        27\n",
      "          88       1.00      1.00      1.00        18\n",
      "          89       1.00      1.00      1.00        19\n",
      "          90       1.00      1.00      1.00        22\n",
      "          91       1.00      1.00      1.00        31\n",
      "          92       1.00      1.00      1.00        15\n",
      "          93       1.00      1.00      1.00        23\n",
      "          94       1.00      1.00      1.00        19\n",
      "          95       1.00      1.00      1.00        20\n",
      "          96       1.00      1.00      1.00        27\n",
      "          97       1.00      1.00      1.00        21\n",
      "          98       1.00      1.00      1.00        34\n",
      "          99       1.00      1.00      1.00        22\n",
      "         100       1.00      1.00      1.00        24\n",
      "         101       1.00      1.00      1.00        24\n",
      "         102       1.00      1.00      1.00        27\n",
      "         103       1.00      1.00      1.00        20\n",
      "         104       1.00      1.00      1.00        14\n",
      "         105       1.00      1.00      1.00        11\n",
      "         106       1.00      1.00      1.00        11\n",
      "         107       1.00      1.00      1.00        18\n",
      "         108       1.00      1.00      1.00        18\n",
      "         109       1.00      1.00      1.00        39\n",
      "         110       1.00      1.00      1.00        16\n",
      "         111       1.00      1.00      1.00        26\n",
      "         112       1.00      1.00      1.00        18\n",
      "         113       1.00      1.00      1.00        27\n",
      "         114       1.00      1.00      1.00        25\n",
      "         115       1.00      1.00      1.00        13\n",
      "         116       1.00      1.00      1.00        23\n",
      "         117       1.00      1.00      1.00        16\n",
      "         118       1.00      1.00      1.00        19\n",
      "         119       1.00      1.00      1.00        24\n",
      "         120       1.00      1.00      1.00        26\n",
      "         121       1.00      1.00      1.00        23\n",
      "         122       1.00      1.00      1.00        16\n",
      "         123       1.00      1.00      1.00        18\n",
      "         124       1.00      1.00      1.00        17\n",
      "         125       1.00      1.00      1.00        12\n",
      "         126       1.00      1.00      1.00        23\n",
      "         127       1.00      1.00      1.00        25\n",
      "         128       1.00      1.00      1.00        23\n",
      "         129       1.00      1.00      1.00        13\n",
      "         130       1.00      1.00      1.00        23\n",
      "         131       1.00      1.00      1.00        18\n",
      "         132       1.00      1.00      1.00        17\n",
      "         133       1.00      1.00      1.00        24\n",
      "         134       1.00      1.00      1.00        23\n",
      "         135       1.00      1.00      1.00        24\n",
      "         136       1.00      1.00      1.00        22\n",
      "         137       1.00      1.00      1.00        22\n",
      "         138       1.00      1.00      1.00        22\n",
      "         139       1.00      1.00      1.00        24\n",
      "         140       1.00      1.00      1.00        27\n",
      "         141       1.00      1.00      1.00        20\n",
      "         142       1.00      1.00      1.00        18\n",
      "         143       1.00      1.00      1.00        33\n",
      "         144       1.00      1.00      1.00        26\n",
      "         145       1.00      1.00      1.00        16\n",
      "         146       1.00      1.00      1.00        21\n",
      "         147       1.00      1.00      1.00        29\n",
      "         148       0.96      1.00      0.98        22\n",
      "         149       1.00      1.00      1.00        32\n",
      "         150       1.00      1.00      1.00        22\n",
      "         151       1.00      1.00      1.00        28\n",
      "         152       1.00      1.00      1.00        29\n",
      "         153       1.00      1.00      1.00        32\n",
      "         154       1.00      1.00      1.00        19\n",
      "         155       1.00      1.00      1.00        20\n",
      "         156       1.00      1.00      1.00        23\n",
      "         157       1.00      1.00      1.00        24\n",
      "         158       1.00      1.00      1.00        20\n",
      "         159       1.00      1.00      1.00        23\n",
      "         160       1.00      1.00      1.00        26\n",
      "         161       0.95      1.00      0.98        21\n",
      "         162       1.00      1.00      1.00        20\n",
      "         163       1.00      1.00      1.00        16\n",
      "         164       1.00      1.00      1.00        21\n",
      "         165       1.00      1.00      1.00        31\n",
      "         166       1.00      1.00      1.00        26\n",
      "         167       1.00      1.00      1.00        26\n",
      "         168       1.00      1.00      1.00        16\n",
      "         169       1.00      1.00      1.00        24\n",
      "         170       1.00      1.00      1.00        26\n",
      "         171       1.00      1.00      1.00        27\n",
      "         172       1.00      1.00      1.00        22\n",
      "         173       1.00      1.00      1.00        16\n",
      "         174       1.00      1.00      1.00        27\n",
      "         175       1.00      1.00      1.00        20\n",
      "         176       1.00      1.00      1.00        19\n",
      "         177       1.00      1.00      1.00        25\n",
      "         178       1.00      1.00      1.00        16\n",
      "         179       1.00      1.00      1.00        28\n",
      "         180       1.00      1.00      1.00        24\n",
      "         181       1.00      1.00      1.00        19\n",
      "         182       1.00      1.00      1.00        34\n",
      "         183       1.00      1.00      1.00        30\n",
      "         184       1.00      1.00      1.00        20\n",
      "         185       1.00      1.00      1.00        21\n",
      "         186       1.00      1.00      1.00        24\n",
      "         187       1.00      1.00      1.00        18\n",
      "         188       1.00      1.00      1.00        23\n",
      "         189       1.00      1.00      1.00        25\n",
      "         190       1.00      1.00      1.00        26\n",
      "         191       1.00      1.00      1.00        16\n",
      "         192       1.00      1.00      1.00        25\n",
      "         193       1.00      1.00      1.00        25\n",
      "         194       1.00      1.00      1.00        27\n",
      "         195       1.00      1.00      1.00        19\n",
      "         196       1.00      1.00      1.00        10\n",
      "         197       1.00      1.00      1.00        26\n",
      "         198       1.00      1.00      1.00        18\n",
      "         199       1.00      1.00      1.00        26\n",
      "         200       1.00      1.00      1.00        24\n",
      "         201       1.00      1.00      1.00        19\n",
      "         202       1.00      1.00      1.00        28\n",
      "         203       1.00      1.00      1.00        28\n",
      "         204       1.00      1.00      1.00        20\n",
      "         205       1.00      1.00      1.00         3\n",
      "         206       1.00      1.00      1.00        26\n",
      "         207       1.00      1.00      1.00        24\n",
      "         208       1.00      1.00      1.00        29\n",
      "         209       1.00      1.00      1.00        29\n",
      "         210       1.00      1.00      1.00        19\n",
      "         211       1.00      1.00      1.00        25\n",
      "         212       1.00      1.00      1.00        31\n",
      "         213       1.00      1.00      1.00        24\n",
      "         214       1.00      1.00      1.00        25\n",
      "         215       1.00      1.00      1.00        23\n",
      "         216       1.00      1.00      1.00        31\n",
      "         217       1.00      1.00      1.00        26\n",
      "         218       1.00      1.00      1.00        15\n",
      "         219       1.00      1.00      1.00        20\n",
      "         220       1.00      1.00      1.00        36\n",
      "         221       1.00      1.00      1.00        24\n",
      "         222       1.00      1.00      1.00        30\n",
      "         223       1.00      1.00      1.00        17\n",
      "         224       1.00      1.00      1.00        17\n",
      "         225       1.00      1.00      1.00        22\n",
      "         226       1.00      1.00      1.00        21\n",
      "         227       1.00      1.00      1.00        24\n",
      "         228       1.00      1.00      1.00        22\n",
      "         229       1.00      1.00      1.00        25\n",
      "         230       1.00      1.00      1.00        32\n",
      "         231       1.00      1.00      1.00        28\n",
      "         232       1.00      1.00      1.00        20\n",
      "         233       1.00      1.00      1.00        17\n",
      "         234       1.00      1.00      1.00        17\n",
      "         235       1.00      0.96      0.98        27\n",
      "         236       1.00      1.00      1.00        31\n",
      "         237       1.00      1.00      1.00        18\n",
      "         238       1.00      1.00      1.00        21\n",
      "         239       1.00      0.97      0.99        34\n",
      "         240       1.00      1.00      1.00        24\n",
      "         241       1.00      1.00      1.00        20\n",
      "         242       1.00      1.00      1.00        22\n",
      "         243       1.00      1.00      1.00        15\n",
      "         244       1.00      1.00      1.00        19\n",
      "         245       1.00      1.00      1.00        15\n",
      "         246       1.00      1.00      1.00        20\n",
      "         247       1.00      1.00      1.00        25\n",
      "         248       1.00      1.00      1.00        22\n",
      "         249       1.00      1.00      1.00        18\n",
      "         250       1.00      1.00      1.00        24\n",
      "\n",
      "    accuracy                           1.00      5708\n",
      "   macro avg       1.00      1.00      1.00      5708\n",
      "weighted avg       1.00      1.00      1.00      5708\n",
      "\n"
     ]
    }
   ],
   "source": [
    "from sklearn.metrics import classification_report\n",
    "\n",
    "y_pred = model.predict(X_test, batch_size=64, verbose=1)\n",
    "y_pred_bool = np.argmax(y_pred, axis=1)\n",
    "\n",
    "print(classification_report(y_tests, y_pred_bool))"
   ]
  },
  {
   "cell_type": "code",
   "execution_count": 22,
   "metadata": {},
   "outputs": [
    {
     "data": {
      "text/plain": [
       "array([196, 173, 127, ...,  42, 242, 182])"
      ]
     },
     "execution_count": 22,
     "metadata": {},
     "output_type": "execute_result"
    }
   ],
   "source": [
    "y_tests"
   ]
  },
  {
   "cell_type": "code",
   "execution_count": 5,
   "metadata": {},
   "outputs": [],
   "source": [
    "df.to_csv('df.csv')"
   ]
  },
  {
   "cell_type": "code",
   "execution_count": 6,
   "metadata": {},
   "outputs": [],
   "source": [
    "np.save('classes.npy', lb.classes_)"
   ]
  },
  {
   "cell_type": "code",
   "execution_count": 7,
   "metadata": {},
   "outputs": [
    {
     "data": {
      "text/plain": [
       "array(['x0', 'x1', 'x2', 'x3', 'x4', 'x5', 'x6', 'x7', 'x8', 'x9', 'x10',\n",
       "       'x11', 'x12', 'x13', 'x14', 'x15', 'x16', 'x17', 'x18', 'x19',\n",
       "       'x20', 'x21', 'x22', 'x23', 'x24', 'x25', 'x26', 'x27', 'x28',\n",
       "       'x29', 'x30', 'x31', 'x32', 'x33', 'x34', 'x35', 'x36', 'x37',\n",
       "       'x38', 'x39', 'x40', 'x41', 'x42', 'x43', 'x44', 'x45', 'x46',\n",
       "       'x47', 'x48', 'x49', 'x50', 'x51', 'x52', 'x53', 'x54', 'x55',\n",
       "       'x56', 'x57', 'x58', 'x59', 'x60', 'x61', 'x62', 'x63', 'x64',\n",
       "       'x65', 'x66', 'x67', 'x68', 'x69', 'x70', 'x71', 'x72', 'x73',\n",
       "       'x74', 'x75', 'x76', 'x77', 'x78', 'x79', 'x80', 'x81', 'x82',\n",
       "       'x83', 'x84', 'x85', 'x86', 'x87', 'x88', 'x89', 'x90', 'x91',\n",
       "       'x92', 'x93', 'x94', 'x95', 'x96', 'x97', 'x98', 'x99', 'x100',\n",
       "       'x101', 'x102', 'x103', 'x104', 'x105', 'x106', 'x107', 'x108',\n",
       "       'x109', 'x110', 'x111', 'x112', 'x113', 'x114', 'x115', 'x116',\n",
       "       'x117', 'x118', 'x119', 'x120', 'x121', 'x122', 'x123', 'x124',\n",
       "       'x125', 'x126', 'x127', 'x128', 'x129', 'x130', 'x131', 'x132',\n",
       "       'x133', 'x134', 'x135', 'x136', 'x137', 'x138', 'x139', 'x140',\n",
       "       'x141', 'x142', 'x143', 'x144', 'x145', 'x146', 'x147', 'x148',\n",
       "       'x149', 'x150', 'x151', 'x152', 'x153', 'x154', 'x155', 'x156',\n",
       "       'x157', 'x158', 'x159', 'x160', 'x161', 'x162', 'x163', 'x164',\n",
       "       'x165', 'x166', 'x167', 'x168', 'x169', 'x170', 'x171', 'x172',\n",
       "       'x173', 'x174', 'x175', 'x176', 'x177', 'x178', 'x179', 'x180',\n",
       "       'x181', 'x182', 'x183', 'x184', 'x185', 'x186', 'x187', 'x188',\n",
       "       'x189', 'x190', 'x191', 'x192'], dtype=object)"
      ]
     },
     "execution_count": 7,
     "metadata": {},
     "output_type": "execute_result"
    }
   ],
   "source": [
    "ss.get_feature_names_out()"
   ]
  },
  {
   "cell_type": "code",
   "execution_count": 9,
   "metadata": {},
   "outputs": [
    {
     "name": "stdout",
     "output_type": "stream",
     "text": [
      "Scaler mean:  [-3.42636898e+02  1.14403900e+02 -2.52166704e+01  4.36561293e+01\n",
      " -7.91630303e+00  8.24034949e+00 -8.54223312e+00 -4.38943893e+00\n",
      " -3.54219944e+00 -4.65130734e+00  1.39754209e+00 -7.42011949e+00\n",
      "  3.00970757e+00 -4.29678006e+00  2.51086606e+00 -3.33514949e+00\n",
      " -2.02270202e+00 -7.78887033e-02 -4.18190567e+00  1.06035705e-01\n",
      " -4.40086170e+00 -3.26814271e-01 -3.05620993e+00 -8.41757079e-01\n",
      " -1.16180725e+00 -1.23388536e+00  3.15398790e-01 -1.51579674e+00\n",
      "  1.15811974e+00 -7.36353689e-01  7.62866566e-01  1.63402318e-01\n",
      "  8.65366628e-01  7.91579007e-01  4.21844664e-01  1.26403804e+00\n",
      "  2.46851775e-01  1.08985443e+00  1.80583230e-01  6.97547291e-01\n",
      "  5.85768014e-01  5.77423491e-01  5.73321116e-01  5.76135191e-01\n",
      "  5.84942008e-01  6.01566465e-01  6.14592842e-01  6.26003941e-01\n",
      "  6.24717749e-01  6.08753662e-01  5.96474606e-01  5.93133259e-01\n",
      "  1.35813672e+00  3.99174269e-01  1.27945299e+00  3.32301848e+00\n",
      "  4.47958956e+00  4.41175222e+00  5.40222934e+00  6.43232339e+00\n",
      "  5.70620327e+00  4.94818949e+00  3.86932935e+00  3.31294997e+00\n",
      "  3.24219829e+00  3.32944695e+00  3.92533106e+00  4.07954198e+00\n",
      "  4.19305664e+00  4.10671743e+00  3.61048016e+00  3.52641720e+00\n",
      "  3.09651146e+00  2.80977835e+00  2.52481748e+00  2.09942956e+00\n",
      "  1.97683760e+00  1.72462489e+00  1.53517907e+00  1.36456321e+00\n",
      "  1.10543100e+00  1.03577283e+00  9.15510064e-01  8.28263837e-01\n",
      "  7.84583603e-01  6.53961037e-01  6.25847458e-01  5.70473149e-01\n",
      "  5.11044854e-01  4.97741195e-01  4.34675296e-01  4.38005314e-01\n",
      "  3.94441705e-01  3.89066170e-01  3.74790733e-01  3.53294399e-01\n",
      "  3.39689792e-01  3.25984208e-01  3.17715718e-01  3.05379252e-01\n",
      "  2.93479709e-01  2.73277156e-01  2.58998372e-01  2.64646712e-01\n",
      "  2.54056025e-01  2.45032252e-01  2.43391439e-01  2.36108474e-01\n",
      "  2.25947675e-01  2.18282710e-01  2.02472527e-01  1.84585706e-01\n",
      "  1.69848737e-01  1.57684004e-01  1.48195894e-01  1.33838734e-01\n",
      "  1.22391670e-01  1.08025685e-01  9.72636817e-02  9.17105810e-02\n",
      "  8.64574240e-02  8.43583899e-02  8.28498304e-02  8.22050217e-02\n",
      "  8.21130265e-02  8.18973294e-02  7.86804930e-02  7.42753694e-02\n",
      "  7.08856824e-02  6.72487358e-02  6.36921587e-02  6.06463352e-02\n",
      "  5.53599094e-02  5.01207697e-02  4.68865365e-02  4.48293590e-02\n",
      "  4.44955425e-02  4.45374494e-02  4.41494609e-02  4.31109682e-02\n",
      "  4.08564046e-02  3.88083583e-02  3.67872482e-02  3.51910298e-02\n",
      "  3.37190583e-02  3.18443188e-02  3.04186813e-02  2.91720439e-02\n",
      "  2.85656057e-02  2.76686775e-02  2.72938727e-02  2.57217831e-02\n",
      "  2.42082672e-02  2.26651820e-02  2.13934914e-02  2.06082446e-02\n",
      "  1.95782703e-02  1.81080161e-02  1.61491896e-02  1.41678546e-02\n",
      "  1.16221002e-02  8.22817553e-03  4.78111909e-03  2.09470973e-03\n",
      "  6.09463170e-04  1.04414931e-04  8.88408495e-06  2.82846211e-07\n",
      "  1.56456033e-08  1.32995755e-08  1.23623390e-08  1.16201601e-08\n",
      "  1.10032744e-08  1.05107693e-08  1.01005010e-08  9.76307653e-09\n",
      "  9.49977817e-09  9.29309473e-09  9.14930749e-09  9.05746530e-09\n",
      "  1.96574905e+01  1.58283828e+01  1.81364284e+01  1.64971599e+01\n",
      "  1.80909067e+01  1.95640862e+01  5.48813986e+01 -7.23622203e-03\n",
      " -2.64693918e-03  9.13502084e-03 -1.40636045e-02  2.47636670e-03\n",
      " -6.47449959e-03]\n",
      "Scaler scale:  [3.78348240e+01 1.82309926e+01 1.89246820e+01 1.47410873e+01\n",
      " 1.25295743e+01 1.08968171e+01 9.27538492e+00 8.05111239e+00\n",
      " 7.33000938e+00 5.81384052e+00 5.90295219e+00 5.18631024e+00\n",
      " 5.38499972e+00 4.61761710e+00 4.59318998e+00 4.89729509e+00\n",
      " 4.30230457e+00 3.63485181e+00 4.12112480e+00 3.52683898e+00\n",
      " 3.27619123e+00 3.39028128e+00 3.07244596e+00 3.38232349e+00\n",
      " 2.77348674e+00 3.00997241e+00 3.08512095e+00 2.94761702e+00\n",
      " 3.36852170e+00 3.20730858e+00 3.29986256e+00 3.19856034e+00\n",
      " 3.45671683e+00 3.22884295e+00 3.27238834e+00 3.10032966e+00\n",
      " 2.94631810e+00 2.98112179e+00 2.75451957e+00 2.68894306e+00\n",
      " 6.69973085e-02 7.10750146e-02 7.71149136e-02 7.90294804e-02\n",
      " 7.47148035e-02 7.06125020e-02 6.83893298e-02 6.94585490e-02\n",
      " 7.11981497e-02 7.12187258e-02 6.84762166e-02 6.68400117e-02\n",
      " 1.19074712e+01 1.47158902e+00 4.12135268e+00 8.07355811e+00\n",
      " 8.19165553e+00 7.44877962e+00 7.85835210e+00 8.76559647e+00\n",
      " 7.50303198e+00 6.22294132e+00 5.77694721e+00 4.78317436e+00\n",
      " 4.27685220e+00 4.30286294e+00 4.91370752e+00 5.29300280e+00\n",
      " 6.39685647e+00 7.22901322e+00 5.77193550e+00 5.76597754e+00\n",
      " 5.11431275e+00 4.82426985e+00 3.59793137e+00 3.01235848e+00\n",
      " 2.92976945e+00 2.46269665e+00 2.22832717e+00 1.98538157e+00\n",
      " 1.62406448e+00 1.77331822e+00 1.69347557e+00 1.52348133e+00\n",
      " 1.52270511e+00 1.23181712e+00 1.17349722e+00 1.09597412e+00\n",
      " 9.26922526e-01 8.54015322e-01 7.61205492e-01 7.30429768e-01\n",
      " 6.28069385e-01 6.51660522e-01 6.41499109e-01 6.53646708e-01\n",
      " 6.29241006e-01 5.82843633e-01 5.46899054e-01 5.47720049e-01\n",
      " 5.66838160e-01 4.92652068e-01 4.60064414e-01 5.22828011e-01\n",
      " 4.73710850e-01 4.10294881e-01 4.33545619e-01 4.28143720e-01\n",
      " 3.58668923e-01 3.55695216e-01 3.50646199e-01 3.38735142e-01\n",
      " 2.91568235e-01 2.85875659e-01 2.77711128e-01 2.64860542e-01\n",
      " 2.59313031e-01 2.31676690e-01 2.21995552e-01 2.14383576e-01\n",
      " 2.02035898e-01 1.90179173e-01 1.81376065e-01 1.72462701e-01\n",
      " 1.65169951e-01 1.77005908e-01 1.54515083e-01 1.48632677e-01\n",
      " 1.50875887e-01 1.42024353e-01 1.36153784e-01 1.25746691e-01\n",
      " 1.06634935e-01 9.52969364e-02 9.63143753e-02 9.98103921e-02\n",
      " 1.08226477e-01 1.17020450e-01 1.11304319e-01 1.04290942e-01\n",
      " 9.27662414e-02 8.20564949e-02 7.56695234e-02 7.50726228e-02\n",
      " 7.04254337e-02 6.13454621e-02 6.20375154e-02 5.61914319e-02\n",
      " 5.53208924e-02 5.24922138e-02 5.26503978e-02 4.95796614e-02\n",
      " 4.71259590e-02 4.38106212e-02 4.02427049e-02 4.00770158e-02\n",
      " 4.13040722e-02 4.05442104e-02 3.53235736e-02 3.22241399e-02\n",
      " 2.81718722e-02 1.90690584e-02 1.06201945e-02 4.70580086e-03\n",
      " 1.42405861e-03 2.44450432e-04 2.05313136e-05 7.05901695e-07\n",
      " 2.61229440e-07 2.39480562e-07 2.22844399e-07 2.09659894e-07\n",
      " 1.98676816e-07 1.89900033e-07 1.82584785e-07 1.76555181e-07\n",
      " 1.71865657e-07 1.68160283e-07 1.65601143e-07 1.63968448e-07\n",
      " 3.09331469e+00 1.69085795e+00 1.61212270e+00 1.15132884e+00\n",
      " 1.06067795e+00 1.76639256e+00 2.51240426e+00 2.51363770e-02\n",
      " 3.22245455e-02 5.48074496e-02 4.75117218e-02 1.55011123e-02\n",
      " 2.06208517e-02]\n"
     ]
    }
   ],
   "source": [
    "print(\"Scaler mean: \", ss.mean_)\n",
    "print(\"Scaler scale: \", ss.scale_)"
   ]
  },
  {
   "cell_type": "code",
   "execution_count": 67,
   "metadata": {},
   "outputs": [],
   "source": [
    "from joblib import dump, load"
   ]
  },
  {
   "cell_type": "code",
   "execution_count": 68,
   "metadata": {},
   "outputs": [
    {
     "data": {
      "text/plain": [
       "['std_scaler194.bin']"
      ]
     },
     "execution_count": 68,
     "metadata": {},
     "output_type": "execute_result"
    }
   ],
   "source": [
    "dump(ss, 'std_scaler194.bin', compress=True)"
   ]
  },
  {
   "cell_type": "code",
   "execution_count": 73,
   "metadata": {},
   "outputs": [
    {
     "data": {
      "text/plain": [
       "['labelEncoader.bin']"
      ]
     },
     "execution_count": 73,
     "metadata": {},
     "output_type": "execute_result"
    }
   ],
   "source": [
    "dump(lb, 'labelEncoader.bin', compress=True)"
   ]
  },
  {
   "cell_type": "code",
   "execution_count": null,
   "metadata": {},
   "outputs": [],
   "source": []
  }
 ],
 "metadata": {
  "kernelspec": {
   "display_name": "temp",
   "language": "python",
   "name": "temp"
  },
  "language_info": {
   "codemirror_mode": {
    "name": "ipython",
    "version": 3
   },
   "file_extension": ".py",
   "mimetype": "text/x-python",
   "name": "python",
   "nbconvert_exporter": "python",
   "pygments_lexer": "ipython3",
   "version": "3.8.16"
  }
 },
 "nbformat": 4,
 "nbformat_minor": 2
}
